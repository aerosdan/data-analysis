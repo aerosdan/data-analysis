{
 "cells": [
  {
   "cell_type": "markdown",
   "metadata": {},
   "source": [
    "<a name=\"index\"></a>\n",
    "<h1 align=\"center\">Análise de Dados Eleitorais</h1>\n",
    "______________________________________________________________________________________________________________________________\n",
    "\n",
    "# 1 - Introdução e Objetivo do Projeto\n",
    "\n",
    "Este notebook tem objetivo de proporcionar um ambiente de análise de dados eleitorais.\n",
    "\n",
    "## Objetivo das análises\n",
    "* [01 - Mostrar a classificação do eleitorado a partir do estado civil, escolaridade e faixa etária, além da quantidade de eleitores que utilizam nome social;](#analysis_1)\n",
    "\n",
    "\n",
    "* [02 - Relacionar as características do eleitorado de acordo com o representante eleito em determinada região;](#analysis_2)\n",
    "\n",
    "\n",
    "* [03- Mostrar a renda média do eleitorado de determinada região;](#analysis_3)\n",
    "\n",
    "\n",
    "* [04 - Mostrar, daquela região, a cidade com mais eleitores jovem e mais eleitores idosos;](#analysis_4)\n",
    "\n",
    "\n",
    "* [05 - Comparar a renda média de eleitores do Vale do Paraíba com a de outras regiões do Estado;](#analysis_5)\n",
    "\n",
    "\n",
    "* [06 - Automatizar a exportação das estatísticas;](#analysis_6)\n",
    "\n",
    "\n",
    "* [07 - Relacionar características do eleitorado de acordo com o representante eleito em determinada região de eleições futuras;](#analysis_7)\n",
    "\n",
    "\n",
    "* [08 - Mostrar a percentagem de eleitores ausentes da última eleição;](#analysis_8)\n",
    "\n",
    "\n",
    "* [09 - Mostrar a evolução do número de eleitores;](#analysis_9)\n",
    "\n",
    "\n",
    "* [10 - Análise de dados feita em Jupyter Notebook.](#analysis_10)"
   ]
  },
  {
   "cell_type": "markdown",
   "metadata": {},
   "source": [
    "<a name=\"dev\"></a>\n",
    "# 2 - Preparativos\n",
    "[Back to the top](#index)"
   ]
  },
  {
   "cell_type": "markdown",
   "metadata": {},
   "source": [
    "Instale as dependências deste projeto através do comando:"
   ]
  },
  {
   "cell_type": "code",
   "execution_count": 1,
   "metadata": {},
   "outputs": [
    {
     "name": "stdout",
     "output_type": "stream",
     "text": [
      "Requirement already satisfied: pandas in /home/daniel/.local/lib/python3.8/site-packages (from -r requirements.txt (line 1)) (1.4.1)\n",
      "Requirement already satisfied: numpy in /home/daniel/.local/lib/python3.8/site-packages (from -r requirements.txt (line 2)) (1.22.3)\n",
      "Requirement already satisfied: plotly in /home/daniel/.local/lib/python3.8/site-packages (from -r requirements.txt (line 3)) (5.7.0)\n",
      "Requirement already satisfied: matplotlib in /home/daniel/.local/lib/python3.8/site-packages (from -r requirements.txt (line 4)) (3.5.1)\n",
      "Requirement already satisfied: python-dateutil>=2.8.1 in /home/daniel/.local/lib/python3.8/site-packages (from pandas->-r requirements.txt (line 1)) (2.8.2)\n",
      "Requirement already satisfied: pytz>=2020.1 in /home/daniel/.local/lib/python3.8/site-packages (from pandas->-r requirements.txt (line 1)) (2022.1)\n",
      "Requirement already satisfied: six in /home/daniel/.local/lib/python3.8/site-packages (from plotly->-r requirements.txt (line 3)) (1.12.0)\n",
      "Requirement already satisfied: tenacity>=6.2.0 in /home/daniel/.local/lib/python3.8/site-packages (from plotly->-r requirements.txt (line 3)) (8.0.1)\n",
      "Requirement already satisfied: kiwisolver>=1.0.1 in /home/daniel/.local/lib/python3.8/site-packages (from matplotlib->-r requirements.txt (line 4)) (1.4.2)\n",
      "Requirement already satisfied: cycler>=0.10 in /home/daniel/.local/lib/python3.8/site-packages (from matplotlib->-r requirements.txt (line 4)) (0.11.0)\n",
      "Requirement already satisfied: packaging>=20.0 in /home/daniel/.local/lib/python3.8/site-packages (from matplotlib->-r requirements.txt (line 4)) (21.3)\n",
      "Requirement already satisfied: pillow>=6.2.0 in /usr/lib/python3/dist-packages (from matplotlib->-r requirements.txt (line 4)) (7.0.0)\n",
      "Requirement already satisfied: pyparsing>=2.2.1 in /home/daniel/.local/lib/python3.8/site-packages (from matplotlib->-r requirements.txt (line 4)) (3.0.7)\n",
      "Requirement already satisfied: fonttools>=4.22.0 in /home/daniel/.local/lib/python3.8/site-packages (from matplotlib->-r requirements.txt (line 4)) (4.31.2)\n",
      "Note: you may need to restart the kernel to use updated packages.\n"
     ]
    }
   ],
   "source": [
    "pip install -r requirements.txt"
   ]
  },
  {
   "cell_type": "markdown",
   "metadata": {},
   "source": [
    "Importando as libs necessarias para rodar o projeto:"
   ]
  },
  {
   "cell_type": "code",
   "execution_count": 2,
   "metadata": {},
   "outputs": [
    {
     "name": "stdout",
     "output_type": "stream",
     "text": [
      "Importações e configurações concluídas ✔️ \n"
     ]
    }
   ],
   "source": [
    "# libs para análise de dados + graficos\n",
    "import pandas as pd\n",
    "pd.set_option('mode.chained_assignment', None)\n",
    "import numpy as np\n",
    "import matplotlib.pyplot as plt\n",
    "\n",
    "# libs auxiliares\n",
    "import os\n",
    "from os import walk\n",
    "import datetime\n",
    "\n",
    "print(\"Importações e configurações concluídas ✔️ \")"
   ]
  },
  {
   "cell_type": "markdown",
   "metadata": {},
   "source": [
    "# 3 - Getting started\n",
    "[Back to the top](#index)\n",
    "## 3.1 Configuração: Região de Estudo"
   ]
  },
  {
   "cell_type": "markdown",
   "metadata": {},
   "source": [
    "### 3.1.1 Macroregiões\n",
    "\n",
    "Para orientar-se por macrorregiões é possível escolher um município ou uma lista de municípios. Para o exemplo iremos colocar as regiões do Vale do Paraíba, Vale Histórico, Litoral Norte, Serra da Mantiqueira e Região Brangantina:"
   ]
  },
  {
   "cell_type": "code",
   "execution_count": 3,
   "metadata": {},
   "outputs": [],
   "source": [
    "macro_regiao = {\n",
    "    \"VALE DO PARAÍBA\": [\n",
    "        \"APARECIDA\",\n",
    "        \"CAÇAPAVA\",\n",
    "        \"CACHOEIRA PAULISTA\",\n",
    "        \"CANAS\",\n",
    "        \"CUNHA\",\n",
    "        \"GUARATINGUETÁ\",\n",
    "        \"IGARATÁ\",\n",
    "        \"JACAREÍ\",\n",
    "        \"JAMBEIRO\",\n",
    "        \"LAGOINHA\",\n",
    "        \"LORENA\",\n",
    "        \"NATIVIDADE DA SERRA\",\n",
    "        \"PARAIBUNA\",\n",
    "        \"PINDAMONHANGABA\",\n",
    "        \"PIQUETE\",\n",
    "        \"POTIM\",\n",
    "        \"REDENÇÃO DA SERRA\",\n",
    "        \"ROSEIRA\",\n",
    "        \"SANTA BRANCA\",\n",
    "        \"SÃO JOSÉ DOS CAMPOS\",\n",
    "        \"SÃO LUÍS DO PARAITINGA\",\n",
    "        \"TAUBATÉ\",\n",
    "        \"TREMEMBÉ\"\n",
    "    ],\n",
    "    \"VALE HISTÓRICO\": [\n",
    "        \"ARAPEÍ\",\n",
    "        \"AREIAS\",\n",
    "        \"BANANAL\",\n",
    "        \"CRUZEIRO\",\n",
    "        \"LAVRINHAS\",\n",
    "        \"QUELUZ\",\n",
    "        \"SÃO JOSÉ DO BARREIRO\",\n",
    "        \"SILVEIRAS\"\n",
    "    ],\n",
    "    \"LITORAL NORTE\": [\n",
    "        \"ILHABELA\",\n",
    "        \"SÃO SEBASTIÃO\",\n",
    "        \"UBATUBA\",\n",
    "        \"CAMPOS DO JORDÃO\",\n",
    "        \"MONTEIRO LOBATO\",\n",
    "        \"SANTO ANTÔNIO DO PINHAL\",\n",
    "        \"SÃO BENTO DO SAPUCAÍ\"\n",
    "    ],\n",
    "    \"REGIÃO BRAGANTINA\": [\n",
    "        \"BOM JESUS DOS PERDÕES\",\n",
    "        \"BRAGANÇA PAULISTA\",\n",
    "        \"JOANÓPOLIS\",\n",
    "        \"NAZARÉ PAULISTA\",\n",
    "        \"PIRACAIA\",\n",
    "        \"VARGEM\"\n",
    "    ]\n",
    "}"
   ]
  },
  {
   "cell_type": "markdown",
   "metadata": {},
   "source": [
    "### 3.1.2 Municípios foco\n",
    "[Back to the top](#index)\n",
    "\n",
    "\n",
    "As variáveis `municipio_1`, `municipio_2` e `municipio_3` guardarão o nome dos municípios que terão mais foco durante a análise. Tome cuidado com a escrita: o município deve ser declarado com a **acentuação e espaçamento corretos**, além de estar **entre aspas**!\n"
   ]
  },
  {
   "cell_type": "code",
   "execution_count": 4,
   "metadata": {},
   "outputs": [
    {
     "name": "stdout",
     "output_type": "stream",
     "text": [
      "['APARECIDA', 'CAÇAPAVA', 'CACHOEIRA PAULISTA', 'CANAS', 'CUNHA', 'GUARATINGUETÁ', 'IGARATÁ', 'JACAREÍ', 'JAMBEIRO', 'LAGOINHA', 'LORENA', 'NATIVIDADE DA SERRA', 'PARAIBUNA', 'PINDAMONHANGABA', 'PIQUETE', 'POTIM', 'REDENÇÃO DA SERRA', 'ROSEIRA', 'SANTA BRANCA', 'SÃO JOSÉ DOS CAMPOS', 'SÃO LUÍS DO PARAITINGA', 'TAUBATÉ', 'TREMEMBÉ', 'ARAPEÍ', 'AREIAS', 'BANANAL', 'CRUZEIRO', 'LAVRINHAS', 'QUELUZ', 'SÃO JOSÉ DO BARREIRO', 'SILVEIRAS', 'ILHABELA', 'SÃO SEBASTIÃO', 'UBATUBA', 'CAMPOS DO JORDÃO', 'MONTEIRO LOBATO', 'SANTO ANTÔNIO DO PINHAL', 'SÃO BENTO DO SAPUCAÍ', 'BOM JESUS DOS PERDÕES', 'BRAGANÇA PAULISTA', 'JOANÓPOLIS', 'NAZARÉ PAULISTA', 'PIRACAIA', 'VARGEM']\n"
     ]
    }
   ],
   "source": [
    "all_cities_cobertura_vanguarda = []\n",
    "\n",
    "for regiao in macro_regiao:\n",
    "    all_cities_cobertura_vanguarda+= macro_regiao[regiao]\n",
    "\n",
    "print(all_cities_cobertura_vanguarda)"
   ]
  },
  {
   "cell_type": "code",
   "execution_count": 5,
   "metadata": {},
   "outputs": [
    {
     "name": "stdout",
     "output_type": "stream",
     "text": [
      "Municípios OK ✔️\n"
     ]
    }
   ],
   "source": [
    "# Informe os municípios para análise\n",
    "municipio_1 = \"CAÇAPAVA\"\n",
    "municipio_2 = \"TAUBATÉ\"            \n",
    "municipio_3 = \"SÃO JOSÉ DOS CAMPOS\"            \n",
    "\n",
    "# Checando se você digitou corretamente\n",
    "if(set([municipio_1.upper(),municipio_2.upper(),municipio_3.upper()]).issubset(set(all_cities_cobertura_vanguarda))):\n",
    "    print(f\"Municípios OK ✔️\")\n",
    "else:\n",
    "    print(\"❌ Município com nome incorreto, tente novamente!\")"
   ]
  },
  {
   "cell_type": "markdown",
   "metadata": {},
   "source": [
    "### 3.2 Configuração: Ano eleitoral\n",
    "\n",
    "[Back to the top](#index)\n",
    "\n",
    "Para análises de apenas um município, temos à disposição os dados das eleições de 2018 e 2020. Abaixo as características das eleições que ocorreram nestes anos:\n",
    "\n",
    "ANO  | TIPO DE ELEIÇÃO    | CARGOS                  |\n",
    ":----|:-------------------|:------------------------|\n",
    "2018 | Federal e Estadual | Presidente e Governador |\n",
    "2020 | Municipal          | Prefeito                |\n",
    "\n",
    "A variável `eleicao_ano` guarda o ano escolhido para as análises!<br>"
   ]
  },
  {
   "cell_type": "code",
   "execution_count": 6,
   "metadata": {},
   "outputs": [
    {
     "name": "stdout",
     "output_type": "stream",
     "text": [
      "Ano eleitoral 2020 escolhido com sucesso ✔️\n"
     ]
    }
   ],
   "source": [
    "# Informe o ano para análise\n",
    "eleicao_ano = 2020\n",
    "\n",
    "# listagem de anos eleitorais para cada 'tipo'\n",
    "anos_eleicoes_federal = np.arange(1994, datetime.date.today().year+10, 4).tolist()\n",
    "anos_eleicoes_municipal = np.arange(1996, datetime.date.today().year+10, 4).tolist()\n",
    "\n",
    "if eleicao_ano in anos_eleicoes_federal or eleicao_ano in anos_eleicoes_municipal:\n",
    "   print(f\"Ano eleitoral {eleicao_ano} escolhido com sucesso ✔️\")\n",
    "else:\n",
    "    print(\"❌ O ano escolhido não é um ano de eleição! Volte ao início do notebook, altere o ano e rode aquela e esta célula novamente\")\n",
    "    "
   ]
  },
  {
   "cell_type": "markdown",
   "metadata": {},
   "source": [
    "<a name=\"export_to_csv\"></a>\n",
    "### 3.3 Configuração: Export to CSV\n",
    "\n",
    "[Back to the top](#index)\n",
    "\n",
    "Está variavél visa gravar se o usuário deseja ou não exportar os dataframes criados para um csv.\n",
    "\n",
    "Caso seja colocado como 's' ('sim'), ao rodar uma analise um csv será gerado na pasta `exported_csv`.  \n",
    "Por padrão deixamos como 'n' para **não** gerar estes csv's.\n"
   ]
  },
  {
   "cell_type": "code",
   "execution_count": 7,
   "metadata": {},
   "outputs": [],
   "source": [
    "EXPORT_TO_CSV = 'N'\n",
    "EXPORT_TO_CSV = EXPORT_TO_CSV.upper()"
   ]
  },
  {
   "cell_type": "markdown",
   "metadata": {},
   "source": [
    "### 3.4 Check list Arquivos de Dados (.csv)\n",
    "\n",
    "[Back to the top](#index)\n",
    "\n",
    "Os dados que utilizados podem ser obtidos a partir do [IBGE - Instituto Brasileiro de Geografia e Estatística](https://cidades.ibge.gov.br/brasil/sp/sao-jose-dos-campos/pesquisa/19/29765?localidade1=355410&localidade2=355030) e do [TSE - Tribunal Superior Eleitoral](https://www.tse.jus.br/eleicoes/estatisticas/repositorio-de-dados-eleitorais-1/repositorio-de-dados-eleitorais). <br>\n",
    "\n",
    "**Arquivo sobre renda média dos municípios:**\n",
    "- cadastro_central_de_empresas.csv\n",
    "\n",
    "**Arquivos dos candidatos:**\n",
    "- consulta_cand_2018_BRASIL.csv\n",
    "- consulta_cand_2020_SP.csv\n",
    "- (arquivos de eleições futuras 2022, 2024,etc. conforme requisito 4.7)\n",
    "\n",
    "**Arquivos sobre a evolução da quantiade de eleitores:**\n",
    "- eleitorado_municipio_2014.csv\n",
    "- eleitorado_municipio_2016.csv\n",
    "- eleitorado_municipio_2018.csv\n",
    "- eleitorado_municipio_2020.csv\n",
    "- (arquivos de eleições futuras 2022, 2024,etc. conforme requisito 4.7)\n",
    "\n",
    "**Arquivos sobre comparecimento e abstenção dos eleitores:**\n",
    "- perfil_comparecimento_abstencao_2018.csv\n",
    "- perfil_comparecimento_abstencao_2020.csv\n",
    "- (arquivos de eleições futuras 2022, 2024,etc. conforme requisito 4.7)\n",
    "\n",
    "**Arquivos do eleitorado:**\n",
    "- perfil_eleitorado_2018.csv\n",
    "- perfil_eleitorado_2020.csv\n",
    "- (arquivos de eleições futuras 2022, 2024,etc. conforme requisito 4.7)\n",
    "\n",
    "### <font color='red'>**IMPORTANTE:**</font> Para ter os <i>.csv</i> mencionados disponíveis, você precisa ter todos os arquivos <i>.zip</i> descompactados dentro da pasta <b>\\data</b> antes de seguir os próximos passos. \n",
    "### <font color='red'>**ATENÇÃO:**</font> As análises deste notebook são passíveis de atualização, mas para fazer análises de anos futuros é necessário colocar os novos <i>.csv</i> descompactados juntamente com os já presentes.\n",
    "\n",
    "Para este projeto rodar é necessario ter arquivos de dados especificos no formato *.csv* na pasta */data* .\n",
    "A célula a seguir analisa se todos os arquivos necessarios estão presentes de acordo com o ano escolhido na variável: `eleicao_ano`."
   ]
  },
  {
   "cell_type": "code",
   "execution_count": 8,
   "metadata": {},
   "outputs": [
    {
     "name": "stdout",
     "output_type": "stream",
     "text": [
      "O ano escolhido está disponível e com todos os CSVs necessários para as análises!\n"
     ]
    }
   ],
   "source": [
    "# verificando quantos CSVs com o ano escolhido existem na pasta \"/data\"\n",
    "data_folder = 'data'\n",
    "\n",
    "files = os.listdir('data')\n",
    "missing = 0\n",
    "if f'eleitorado_municipio_{eleicao_ano}.csv' not in files:\n",
    "    print(f'Está faltando o arquivo: eleitorado_municipio_{eleicao_ano}.csv')\n",
    "    missing = 1\n",
    "if f'perfil_eleitorado_{eleicao_ano}.csv' not in files:\n",
    "    print(f'Esta faltando o arquivo: perfil_eleitorado_{eleicao_ano}.csv')\n",
    "    missing = 1\n",
    "if f'perfil_comparecimento_abstencao_{eleicao_ano}.csv' not in files:\n",
    "    print(f'Esta faltando o arquivo: perfil_comparecimento_abstencao_{eleicao_ano}.csv')\n",
    "    missing = 1\n",
    "if eleicao_ano in anos_eleicoes_federal:\n",
    "    if f'consulta_cand_{eleicao_ano}_BRASIL.csv' not in files:\n",
    "        print(f'Esta faltando o arquivo: consulta_cand_{eleicao_ano}_BRASIL.csv')\n",
    "        missing = 1\n",
    "    if f'despesas_contratadas_candidatos_{eleicao_ano}_BR.csv' not in files:\n",
    "        print(f'Esta faltando o arquivo: despesas_contratadas_candidatos_{eleicao_ano}_BRASIL.csv')\n",
    "        missing = 1\n",
    "else:\n",
    "    if f'consulta_cand_{eleicao_ano}_SP.csv' not in files:\n",
    "        print(f'Esta faltando o arquivo: consulta_cand_{eleicao_ano}_SP.csv')\n",
    "        missing = 1\n",
    "    if f'despesas_contratadas_candidatos_{eleicao_ano}_SP.csv' not in files:\n",
    "        print(f'Esta faltando o arquivo: despesas_contratadas_candidatos_{eleicao_ano}_SP.csv')\n",
    "        missing = 1\n",
    "\n",
    "\n",
    "if missing == 0:\n",
    "    # caso todos os CSVs necessários estejam na pasta\n",
    "    print(\"O ano escolhido está disponível e com todos os CSVs necessários para as análises!\")\n"
   ]
  },
  {
   "cell_type": "markdown",
   "metadata": {},
   "source": [
    "### 3.5 Carregamento dos dados\n",
    "\n",
    "[Back to the top](#index)\n",
    "\n",
    "Para deixar o processo mais rápido, vamos carregar apenas as informações necessárias dentro de uma infinidade de dados que teremos acesso. <br>"
   ]
  },
  {
   "cell_type": "code",
   "execution_count": 9,
   "metadata": {},
   "outputs": [],
   "source": [
    "def build_path(filename):\n",
    "    return fr'./{data_folder}/{filename}'\n",
    "\n",
    "def build_df(filename, usecols=[]):\n",
    "    if filename == 'cadastro_central_de_empresas.csv':\n",
    "        return pd.read_csv(\n",
    "            build_path(filename),\n",
    "            sep= ';',\n",
    "            on_bad_lines='skip')  \n",
    "    if usecols == []:\n",
    "        return pd.read_csv(\n",
    "            build_path(filename),\n",
    "            sep= ';',\n",
    "            on_bad_lines='skip',\n",
    "            encoding='iso-8859-1')\n",
    "    else:\n",
    "        return pd.read_csv(\n",
    "            build_path(filename),\n",
    "            sep= ';',\n",
    "            usecols=usecols,\n",
    "            on_bad_lines='skip',\n",
    "            encoding='iso-8859-1')"
   ]
  },
  {
   "cell_type": "code",
   "execution_count": 10,
   "metadata": {},
   "outputs": [],
   "source": [
    "# filtro de colunas\n",
    "col_candidatos = [\"NR_TURNO\", \"NM_UE\", \"DS_CARGO\", \"NM_CANDIDATO\", \"SG_PARTIDO\", \"DS_SIT_TOT_TURNO\"]\n",
    "col_eleitorado = [\"NR_ANO_ELEICAO\", \"SG_UF\", \"NM_MUNICIPIO\", \"QTD_ELEITORES\"]\n",
    "col_perfil_eleitorado = [\n",
    "    \"ANO_ELEICAO\", \"SG_UF\", \"NM_MUNICIPIO\", \"DS_ESTADO_CIVIL\", \"CD_FAIXA_ETARIA\", \"DS_FAIXA_ETARIA\", \n",
    "    \"CD_GRAU_ESCOLARIDADE\", \"DS_GRAU_ESCOLARIDADE\", \"QT_ELEITORES_PERFIL\", \n",
    "    \"QT_ELEITORES_INC_NM_SOCIAL\", \"DS_GENERO\", \"QT_ELEITORES_BIOMETRIA\"]\n",
    "col_abstencao = [\"NR_TURNO\", \"NM_MUNICIPIO\", \"QT_APTOS\", \"QT_COMPARECIMENTO\", \"QT_ABSTENCAO\"]\n",
    "col_despesas = [\"NM_UE\", \"DS_CARGO\", \"NM_CANDIDATO\", \"VR_DESPESA_CONTRATADA\" ]"
   ]
  },
  {
   "cell_type": "code",
   "execution_count": 11,
   "metadata": {},
   "outputs": [
    {
     "name": "stdout",
     "output_type": "stream",
     "text": [
      "dfs carregados com sucesso!\n"
     ]
    }
   ],
   "source": [
    "# Carregando os Dataframes\n",
    "\n",
    "df_renda_mun = build_df('cadastro_central_de_empresas.csv')\n",
    "df_eleitorado_2014 = build_df('eleitorado_municipio_2014.csv',col_eleitorado)\n",
    "df_eleitorado_2016 = build_df('eleitorado_municipio_2016.csv',col_eleitorado)\n",
    "df_eleitorado_2018 = build_df('eleitorado_municipio_2018.csv',col_eleitorado)\n",
    "df_eleitorado_2020 = build_df('eleitorado_municipio_2020.csv',col_eleitorado)\n",
    "# preparando a analise para eleições futuras\n",
    "if eleicao_ano >= 2022:\n",
    "    df_eleitorado_2022 = build_df('eleitorado_municipio_2022.csv',col_eleitorado)\n",
    "if eleicao_ano >= 2024:\n",
    "    df_eleitorado_2024 = build_df('eleitorado_municipio_2024.csv',col_eleitorado)\n",
    "df_perfil_eleitorado = build_df(f'perfil_eleitorado_{eleicao_ano}.csv', col_perfil_eleitorado)\n",
    "df_abstencao = build_df(f'perfil_comparecimento_abstencao_{eleicao_ano}.csv', col_abstencao)\n",
    "\n",
    "\n",
    "if eleicao_ano in anos_eleicoes_federal:\n",
    "    df_candidatos = build_df(f'consulta_cand_{eleicao_ano}_BRASIL.csv', col_candidatos)\n",
    "    df_despesas = build_df(f'despesas_contratadas_candidatos_{eleicao_ano}_BR.csv', col_despesas)\n",
    "else:\n",
    "    df_candidatos = build_df(f'consulta_cand_{eleicao_ano}_SP.csv', col_candidatos)\n",
    "    df_despesas = build_df(f'despesas_contratadas_candidatos_{eleicao_ano}_SP.csv', col_despesas)\n",
    "\n",
    "print('dfs carregados com sucesso!')"
   ]
  },
  {
   "cell_type": "markdown",
   "metadata": {},
   "source": [
    "# 4 - Análises\n",
    "[Back to the top](#index)\n",
    "\n",
    "Configs para os graficos"
   ]
  },
  {
   "cell_type": "code",
   "execution_count": 12,
   "metadata": {},
   "outputs": [],
   "source": [
    "title_font={'fontweight':'bold','fontsize':22}\n",
    "label_font={'fontweight':'bold','fontsize':16}\n",
    "\n",
    "# function to add value labels\n",
    "def add_labels(x,y):\n",
    "    for i in range(len(x)):\n",
    "        plt.text(i,y[i],y[i],ha = 'center')"
   ]
  },
  {
   "cell_type": "markdown",
   "metadata": {},
   "source": [
    "<a name=\"analysis_1\"></a>\n",
    "## 4.1 - Mostrar a classificação do eleitorado a partir do estado civil, escolaridade e faixa etária, além da quantidade de eleitores que utilizam nome social \n",
    "\n",
    "[Back to the top](#index)\n"
   ]
  },
  {
   "cell_type": "markdown",
   "metadata": {},
   "source": [
    "### 4.1.1 - Estado Civil"
   ]
  },
  {
   "cell_type": "code",
   "execution_count": 13,
   "metadata": {},
   "outputs": [
    {
     "data": {
      "text/html": [
       "<div>\n",
       "<style scoped>\n",
       "    .dataframe tbody tr th:only-of-type {\n",
       "        vertical-align: middle;\n",
       "    }\n",
       "\n",
       "    .dataframe tbody tr th {\n",
       "        vertical-align: top;\n",
       "    }\n",
       "\n",
       "    .dataframe thead th {\n",
       "        text-align: right;\n",
       "    }\n",
       "</style>\n",
       "<table border=\"1\" class=\"dataframe\">\n",
       "  <thead>\n",
       "    <tr style=\"text-align: right;\">\n",
       "      <th></th>\n",
       "      <th>DS_ESTADO_CIVIL</th>\n",
       "      <th>QT_ELEITORES_PERFIL</th>\n",
       "      <th>PCTG</th>\n",
       "    </tr>\n",
       "  </thead>\n",
       "  <tbody>\n",
       "    <tr>\n",
       "      <th>4</th>\n",
       "      <td>SOLTEIRO</td>\n",
       "      <td>84630900</td>\n",
       "      <td>57.214554</td>\n",
       "    </tr>\n",
       "    <tr>\n",
       "      <th>0</th>\n",
       "      <td>CASADO</td>\n",
       "      <td>51575693</td>\n",
       "      <td>34.867646</td>\n",
       "    </tr>\n",
       "    <tr>\n",
       "      <th>1</th>\n",
       "      <td>DIVORCIADO</td>\n",
       "      <td>5719757</td>\n",
       "      <td>3.866830</td>\n",
       "    </tr>\n",
       "    <tr>\n",
       "      <th>5</th>\n",
       "      <td>VIÚVO</td>\n",
       "      <td>4309584</td>\n",
       "      <td>2.913486</td>\n",
       "    </tr>\n",
       "    <tr>\n",
       "      <th>3</th>\n",
       "      <td>SEPARADO JUDICIALMENTE</td>\n",
       "      <td>1623642</td>\n",
       "      <td>1.097660</td>\n",
       "    </tr>\n",
       "    <tr>\n",
       "      <th>2</th>\n",
       "      <td>NÃO INFORMADO</td>\n",
       "      <td>58907</td>\n",
       "      <td>0.039824</td>\n",
       "    </tr>\n",
       "  </tbody>\n",
       "</table>\n",
       "</div>"
      ],
      "text/plain": [
       "          DS_ESTADO_CIVIL  QT_ELEITORES_PERFIL       PCTG\n",
       "4                SOLTEIRO             84630900  57.214554\n",
       "0                  CASADO             51575693  34.867646\n",
       "1              DIVORCIADO              5719757   3.866830\n",
       "5                   VIÚVO              4309584   2.913486\n",
       "3  SEPARADO JUDICIALMENTE              1623642   1.097660\n",
       "2           NÃO INFORMADO                58907   0.039824"
      ]
     },
     "execution_count": 13,
     "metadata": {},
     "output_type": "execute_result"
    }
   ],
   "source": [
    "marital_status_totals = df_perfil_eleitorado.groupby('DS_ESTADO_CIVIL')['QT_ELEITORES_PERFIL'].sum().reset_index()\n",
    "marital_status_totals['PCTG'] = (marital_status_totals.QT_ELEITORES_PERFIL / marital_status_totals.QT_ELEITORES_PERFIL.sum()) * 100\n",
    "marital_status_totals = marital_status_totals.sort_values(by=['QT_ELEITORES_PERFIL'], ascending=False)\n",
    "marital_status_totals"
   ]
  },
  {
   "cell_type": "code",
   "execution_count": 14,
   "metadata": {
    "scrolled": false
   },
   "outputs": [
    {
     "data": {
      "image/png": "[encoded data removed]",
      "text/plain": [
       "<Figure size 1440x1008 with 1 Axes>"
      ]
     },
     "metadata": {
      "needs_background": "light"
     },
     "output_type": "display_data"
    }
   ],
   "source": [
    "plt.figure(figsize=(20,14))\n",
    "x = marital_status_totals['DS_ESTADO_CIVIL'].to_list()\n",
    "y = marital_status_totals['QT_ELEITORES_PERFIL'].to_list()\n",
    "plt.bar(x,y,color='orange')\n",
    "\n",
    "add_labels(x, y)\n",
    "plt.title(f'Estado Civil Eleitorado {eleicao_ano}',fontdict=title_font)\n",
    "plt.xlabel('Estado Civil',fontdict=label_font)\n",
    "plt.ylabel('Quantidade de Pessoas',fontdict=label_font)\n",
    "plt.show()"
   ]
  },
  {
   "cell_type": "markdown",
   "metadata": {},
   "source": [
    "### 4.1.2 - Escolaridade"
   ]
  },
  {
   "cell_type": "code",
   "execution_count": 15,
   "metadata": {},
   "outputs": [
    {
     "data": {
      "text/html": [
       "<div>\n",
       "<style scoped>\n",
       "    .dataframe tbody tr th:only-of-type {\n",
       "        vertical-align: middle;\n",
       "    }\n",
       "\n",
       "    .dataframe tbody tr th {\n",
       "        vertical-align: top;\n",
       "    }\n",
       "\n",
       "    .dataframe thead th {\n",
       "        text-align: right;\n",
       "    }\n",
       "</style>\n",
       "<table border=\"1\" class=\"dataframe\">\n",
       "  <thead>\n",
       "    <tr style=\"text-align: right;\">\n",
       "      <th></th>\n",
       "      <th>DS_GRAU_ESCOLARIDADE</th>\n",
       "      <th>QT_ELEITORES_PERFIL</th>\n",
       "      <th>PCTG</th>\n",
       "    </tr>\n",
       "  </thead>\n",
       "  <tbody>\n",
       "    <tr>\n",
       "      <th>3</th>\n",
       "      <td>ENSINO MÉDIO COMPLETO</td>\n",
       "      <td>37681635</td>\n",
       "      <td>25.474595</td>\n",
       "    </tr>\n",
       "    <tr>\n",
       "      <th>2</th>\n",
       "      <td>ENSINO FUNDAMENTAL INCOMPLETO</td>\n",
       "      <td>35771791</td>\n",
       "      <td>24.183449</td>\n",
       "    </tr>\n",
       "    <tr>\n",
       "      <th>4</th>\n",
       "      <td>ENSINO MÉDIO INCOMPLETO</td>\n",
       "      <td>22900434</td>\n",
       "      <td>15.481793</td>\n",
       "    </tr>\n",
       "    <tr>\n",
       "      <th>7</th>\n",
       "      <td>SUPERIOR COMPLETO</td>\n",
       "      <td>15800520</td>\n",
       "      <td>10.681911</td>\n",
       "    </tr>\n",
       "    <tr>\n",
       "      <th>5</th>\n",
       "      <td>LÊ E ESCREVE</td>\n",
       "      <td>11574213</td>\n",
       "      <td>7.824724</td>\n",
       "    </tr>\n",
       "    <tr>\n",
       "      <th>1</th>\n",
       "      <td>ENSINO FUNDAMENTAL COMPLETO</td>\n",
       "      <td>9859257</td>\n",
       "      <td>6.665331</td>\n",
       "    </tr>\n",
       "    <tr>\n",
       "      <th>8</th>\n",
       "      <td>SUPERIOR INCOMPLETO</td>\n",
       "      <td>7723245</td>\n",
       "      <td>5.221285</td>\n",
       "    </tr>\n",
       "    <tr>\n",
       "      <th>0</th>\n",
       "      <td>ANALFABETO</td>\n",
       "      <td>6572249</td>\n",
       "      <td>4.443156</td>\n",
       "    </tr>\n",
       "    <tr>\n",
       "      <th>6</th>\n",
       "      <td>NÃO INFORMADO</td>\n",
       "      <td>35139</td>\n",
       "      <td>0.023756</td>\n",
       "    </tr>\n",
       "  </tbody>\n",
       "</table>\n",
       "</div>"
      ],
      "text/plain": [
       "            DS_GRAU_ESCOLARIDADE  QT_ELEITORES_PERFIL       PCTG\n",
       "3          ENSINO MÉDIO COMPLETO             37681635  25.474595\n",
       "2  ENSINO FUNDAMENTAL INCOMPLETO             35771791  24.183449\n",
       "4        ENSINO MÉDIO INCOMPLETO             22900434  15.481793\n",
       "7              SUPERIOR COMPLETO             15800520  10.681911\n",
       "5                   LÊ E ESCREVE             11574213   7.824724\n",
       "1    ENSINO FUNDAMENTAL COMPLETO              9859257   6.665331\n",
       "8            SUPERIOR INCOMPLETO              7723245   5.221285\n",
       "0                     ANALFABETO              6572249   4.443156\n",
       "6                  NÃO INFORMADO                35139   0.023756"
      ]
     },
     "execution_count": 15,
     "metadata": {},
     "output_type": "execute_result"
    }
   ],
   "source": [
    "schooling_totals = df_perfil_eleitorado.groupby('DS_GRAU_ESCOLARIDADE')['QT_ELEITORES_PERFIL'].sum().reset_index()\n",
    "schooling_totals['PCTG'] = (schooling_totals.QT_ELEITORES_PERFIL / schooling_totals.QT_ELEITORES_PERFIL.sum()) * 100\n",
    "schooling_totals = schooling_totals.sort_values(by=['QT_ELEITORES_PERFIL'], ascending=False)\n",
    "schooling_totals"
   ]
  },
  {
   "cell_type": "code",
   "execution_count": 16,
   "metadata": {
    "scrolled": true
   },
   "outputs": [
    {
     "data": {
      "image/png": "[encoded data removed]",
      "text/plain": [
       "<Figure size 1440x1008 with 1 Axes>"
      ]
     },
     "metadata": {
      "needs_background": "light"
     },
     "output_type": "display_data"
    }
   ],
   "source": [
    "plt.figure(figsize=(20,14))\n",
    "x = schooling_totals['DS_GRAU_ESCOLARIDADE'].to_list()\n",
    "y = schooling_totals['QT_ELEITORES_PERFIL'].to_list()\n",
    "plt.bar(x,y,color='purple')\n",
    "\n",
    "add_labels(x, y)\n",
    "plt.title(f'Escolaridade Eleitorado {eleicao_ano}',fontdict=title_font)\n",
    "plt.xlabel('Escolaridade',fontdict=label_font)\n",
    "plt.ylabel('Quantidade de Pessoas',fontdict=label_font)\n",
    "plt.xticks(rotation=45)\n",
    "\n",
    "plt.show()"
   ]
  },
  {
   "cell_type": "markdown",
   "metadata": {},
   "source": [
    "### 4.1.3 - Faixa Etária"
   ]
  },
  {
   "cell_type": "code",
   "execution_count": 17,
   "metadata": {},
   "outputs": [
    {
     "data": {
      "text/html": [
       "<div>\n",
       "<style scoped>\n",
       "    .dataframe tbody tr th:only-of-type {\n",
       "        vertical-align: middle;\n",
       "    }\n",
       "\n",
       "    .dataframe tbody tr th {\n",
       "        vertical-align: top;\n",
       "    }\n",
       "\n",
       "    .dataframe thead th {\n",
       "        text-align: right;\n",
       "    }\n",
       "</style>\n",
       "<table border=\"1\" class=\"dataframe\">\n",
       "  <thead>\n",
       "    <tr style=\"text-align: right;\">\n",
       "      <th></th>\n",
       "      <th>DS_FAIXA_ETARIA</th>\n",
       "      <th>QT_ELEITORES_PERFIL</th>\n",
       "      <th>PCTG</th>\n",
       "    </tr>\n",
       "  </thead>\n",
       "  <tbody>\n",
       "    <tr>\n",
       "      <th>9</th>\n",
       "      <td>35 a 39 anos</td>\n",
       "      <td>15938174</td>\n",
       "      <td>10.774971</td>\n",
       "    </tr>\n",
       "    <tr>\n",
       "      <th>8</th>\n",
       "      <td>30 a 34 anos</td>\n",
       "      <td>15423585</td>\n",
       "      <td>10.427084</td>\n",
       "    </tr>\n",
       "    <tr>\n",
       "      <th>7</th>\n",
       "      <td>25 a 29 anos</td>\n",
       "      <td>15178770</td>\n",
       "      <td>10.261578</td>\n",
       "    </tr>\n",
       "    <tr>\n",
       "      <th>10</th>\n",
       "      <td>40 a 44 anos</td>\n",
       "      <td>14748141</td>\n",
       "      <td>9.970452</td>\n",
       "    </tr>\n",
       "    <tr>\n",
       "      <th>11</th>\n",
       "      <td>45 a 49 anos</td>\n",
       "      <td>12979183</td>\n",
       "      <td>8.774551</td>\n",
       "    </tr>\n",
       "    <tr>\n",
       "      <th>6</th>\n",
       "      <td>21 a 24 anos</td>\n",
       "      <td>12349829</td>\n",
       "      <td>8.349078</td>\n",
       "    </tr>\n",
       "    <tr>\n",
       "      <th>12</th>\n",
       "      <td>50 a 54 anos</td>\n",
       "      <td>12147351</td>\n",
       "      <td>8.212193</td>\n",
       "    </tr>\n",
       "    <tr>\n",
       "      <th>13</th>\n",
       "      <td>55 a 59 anos</td>\n",
       "      <td>11198821</td>\n",
       "      <td>7.570941</td>\n",
       "    </tr>\n",
       "    <tr>\n",
       "      <th>14</th>\n",
       "      <td>60 a 64 anos</td>\n",
       "      <td>9372283</td>\n",
       "      <td>6.336114</td>\n",
       "    </tr>\n",
       "    <tr>\n",
       "      <th>15</th>\n",
       "      <td>65 a 69 anos</td>\n",
       "      <td>7350599</td>\n",
       "      <td>4.969358</td>\n",
       "    </tr>\n",
       "    <tr>\n",
       "      <th>16</th>\n",
       "      <td>70 a 74 anos</td>\n",
       "      <td>5337454</td>\n",
       "      <td>3.608375</td>\n",
       "    </tr>\n",
       "    <tr>\n",
       "      <th>17</th>\n",
       "      <td>75 a 79 anos</td>\n",
       "      <td>3446550</td>\n",
       "      <td>2.330033</td>\n",
       "    </tr>\n",
       "    <tr>\n",
       "      <th>5</th>\n",
       "      <td>20 anos</td>\n",
       "      <td>2859883</td>\n",
       "      <td>1.933418</td>\n",
       "    </tr>\n",
       "    <tr>\n",
       "      <th>4</th>\n",
       "      <td>19 anos</td>\n",
       "      <td>2299649</td>\n",
       "      <td>1.554673</td>\n",
       "    </tr>\n",
       "    <tr>\n",
       "      <th>18</th>\n",
       "      <td>80 a 84 anos</td>\n",
       "      <td>2266484</td>\n",
       "      <td>1.532252</td>\n",
       "    </tr>\n",
       "    <tr>\n",
       "      <th>3</th>\n",
       "      <td>18 anos</td>\n",
       "      <td>1531395</td>\n",
       "      <td>1.035297</td>\n",
       "    </tr>\n",
       "    <tr>\n",
       "      <th>19</th>\n",
       "      <td>85 a 89 anos</td>\n",
       "      <td>1227487</td>\n",
       "      <td>0.829840</td>\n",
       "    </tr>\n",
       "    <tr>\n",
       "      <th>2</th>\n",
       "      <td>17 anos</td>\n",
       "      <td>790602</td>\n",
       "      <td>0.534485</td>\n",
       "    </tr>\n",
       "    <tr>\n",
       "      <th>20</th>\n",
       "      <td>90 a 94 anos</td>\n",
       "      <td>741147</td>\n",
       "      <td>0.501051</td>\n",
       "    </tr>\n",
       "    <tr>\n",
       "      <th>21</th>\n",
       "      <td>95 a 99 anos</td>\n",
       "      <td>423377</td>\n",
       "      <td>0.286223</td>\n",
       "    </tr>\n",
       "    <tr>\n",
       "      <th>1</th>\n",
       "      <td>16 anos</td>\n",
       "      <td>239961</td>\n",
       "      <td>0.162225</td>\n",
       "    </tr>\n",
       "    <tr>\n",
       "      <th>0</th>\n",
       "      <td>100 anos ou mais</td>\n",
       "      <td>65589</td>\n",
       "      <td>0.044341</td>\n",
       "    </tr>\n",
       "    <tr>\n",
       "      <th>22</th>\n",
       "      <td>Inválido</td>\n",
       "      <td>2169</td>\n",
       "      <td>0.001466</td>\n",
       "    </tr>\n",
       "  </tbody>\n",
       "</table>\n",
       "</div>"
      ],
      "text/plain": [
       "                   DS_FAIXA_ETARIA  QT_ELEITORES_PERFIL       PCTG\n",
       "9   35 a 39 anos                               15938174  10.774971\n",
       "8   30 a 34 anos                               15423585  10.427084\n",
       "7   25 a 29 anos                               15178770  10.261578\n",
       "10  40 a 44 anos                               14748141   9.970452\n",
       "11  45 a 49 anos                               12979183   8.774551\n",
       "6   21 a 24 anos                               12349829   8.349078\n",
       "12  50 a 54 anos                               12147351   8.212193\n",
       "13  55 a 59 anos                               11198821   7.570941\n",
       "14  60 a 64 anos                                9372283   6.336114\n",
       "15  65 a 69 anos                                7350599   4.969358\n",
       "16  70 a 74 anos                                5337454   3.608375\n",
       "17  75 a 79 anos                                3446550   2.330033\n",
       "5   20 anos                                     2859883   1.933418\n",
       "4   19 anos                                     2299649   1.554673\n",
       "18  80 a 84 anos                                2266484   1.532252\n",
       "3   18 anos                                     1531395   1.035297\n",
       "19  85 a 89 anos                                1227487   0.829840\n",
       "2   17 anos                                      790602   0.534485\n",
       "20  90 a 94 anos                                 741147   0.501051\n",
       "21  95 a 99 anos                                 423377   0.286223\n",
       "1   16 anos                                      239961   0.162225\n",
       "0   100 anos ou mais                              65589   0.044341\n",
       "22  Inválido                                       2169   0.001466"
      ]
     },
     "execution_count": 17,
     "metadata": {},
     "output_type": "execute_result"
    }
   ],
   "source": [
    "age_group = df_perfil_eleitorado.groupby('DS_FAIXA_ETARIA')['QT_ELEITORES_PERFIL'].sum().reset_index()\n",
    "age_group['PCTG'] = (age_group.QT_ELEITORES_PERFIL / age_group.QT_ELEITORES_PERFIL.sum()) * 100\n",
    "age_group = age_group.sort_values(by=['QT_ELEITORES_PERFIL'], ascending=False)\n",
    "age_group"
   ]
  },
  {
   "cell_type": "code",
   "execution_count": 18,
   "metadata": {
    "scrolled": true
   },
   "outputs": [
    {
     "data": {
      "image/png": "[encoded data removed]",
      "text/plain": [
       "<Figure size 1440x1008 with 1 Axes>"
      ]
     },
     "metadata": {
      "needs_background": "light"
     },
     "output_type": "display_data"
    }
   ],
   "source": [
    "plt.figure(figsize=(20,14))\n",
    "x = age_group['DS_FAIXA_ETARIA'].to_list()\n",
    "y = age_group['QT_ELEITORES_PERFIL'].to_list()\n",
    "plt.bar(x,y,color='b')\n",
    "\n",
    "add_labels(x, y)\n",
    "plt.title(f'Faixa Etaria Eleitorado {eleicao_ano}',fontdict=title_font)\n",
    "\n",
    "plt.xticks(rotation=45)\n",
    "plt.xlabel('Faixa Etaria',fontdict=label_font)\n",
    "plt.ylabel('Quantidade de Pessoas',fontdict=label_font)\n",
    "plt.show()"
   ]
  },
  {
   "cell_type": "markdown",
   "metadata": {},
   "source": [
    "### 4.1.4 - Uso Nome Social"
   ]
  },
  {
   "cell_type": "code",
   "execution_count": 19,
   "metadata": {},
   "outputs": [
    {
     "name": "stdout",
     "output_type": "stream",
     "text": [
      "Apenas 0.0068% usam nome social\n"
     ]
    }
   ],
   "source": [
    "total_eleitores = df_perfil_eleitorado.QT_ELEITORES_PERFIL.sum()\n",
    "eleitores_nm_social = df_perfil_eleitorado.QT_ELEITORES_INC_NM_SOCIAL.sum()\n",
    "pct_social_name_used = (eleitores_nm_social/total_eleitores)*100\n",
    "\n",
    "print(f'Apenas {round(pct_social_name_used,4)}% usam nome social')"
   ]
  },
  {
   "cell_type": "markdown",
   "metadata": {},
   "source": [
    "[Back to the top](#index)"
   ]
  },
  {
   "cell_type": "markdown",
   "metadata": {},
   "source": [
    "<a name=\"analysis_2\"></a>\n",
    "## 4.2 - Relacionar as características do eleitorado de acordo com o representante eleito em determinada região; \n",
    "[Back to the top](#index)"
   ]
  },
  {
   "cell_type": "code",
   "execution_count": 20,
   "metadata": {},
   "outputs": [
    {
     "data": {
      "text/html": [
       "<div>\n",
       "<style scoped>\n",
       "    .dataframe tbody tr th:only-of-type {\n",
       "        vertical-align: middle;\n",
       "    }\n",
       "\n",
       "    .dataframe tbody tr th {\n",
       "        vertical-align: top;\n",
       "    }\n",
       "\n",
       "    .dataframe thead th {\n",
       "        text-align: right;\n",
       "    }\n",
       "</style>\n",
       "<table border=\"1\" class=\"dataframe\">\n",
       "  <thead>\n",
       "    <tr style=\"text-align: right;\">\n",
       "      <th></th>\n",
       "      <th>DS_GENERO</th>\n",
       "      <th>QT_ELEITORES_PERFIL</th>\n",
       "      <th>PCTG</th>\n",
       "    </tr>\n",
       "  </thead>\n",
       "  <tbody>\n",
       "    <tr>\n",
       "      <th>0</th>\n",
       "      <td>FEMININO</td>\n",
       "      <td>77649569</td>\n",
       "      <td>52.494839</td>\n",
       "    </tr>\n",
       "    <tr>\n",
       "      <th>1</th>\n",
       "      <td>MASCULINO</td>\n",
       "      <td>70228457</td>\n",
       "      <td>47.477810</td>\n",
       "    </tr>\n",
       "    <tr>\n",
       "      <th>2</th>\n",
       "      <td>NÃO INFORMADO</td>\n",
       "      <td>40457</td>\n",
       "      <td>0.027351</td>\n",
       "    </tr>\n",
       "  </tbody>\n",
       "</table>\n",
       "</div>"
      ],
      "text/plain": [
       "       DS_GENERO  QT_ELEITORES_PERFIL       PCTG\n",
       "0       FEMININO             77649569  52.494839\n",
       "1      MASCULINO             70228457  47.477810\n",
       "2  NÃO INFORMADO                40457   0.027351"
      ]
     },
     "execution_count": 20,
     "metadata": {},
     "output_type": "execute_result"
    }
   ],
   "source": [
    "gender_totals = df_perfil_eleitorado.groupby('DS_GENERO')['QT_ELEITORES_PERFIL'].sum().reset_index()\n",
    "gender_totals['PCTG'] = (gender_totals.QT_ELEITORES_PERFIL / gender_totals.QT_ELEITORES_PERFIL.sum()) * 100\n",
    "gender_totals"
   ]
  },
  {
   "cell_type": "code",
   "execution_count": 21,
   "metadata": {},
   "outputs": [
    {
     "data": {
      "image/png": "[encoded data removed]",
      "text/plain": [
       "<Figure size 1440x1008 with 1 Axes>"
      ]
     },
     "metadata": {
      "needs_background": "light"
     },
     "output_type": "display_data"
    }
   ],
   "source": [
    "plt.figure(figsize=(20,14))\n",
    "x = gender_totals['DS_GENERO'].to_list()\n",
    "y = gender_totals['QT_ELEITORES_PERFIL'].to_list()\n",
    "plt.bar(x,y,color='green')\n",
    "\n",
    "add_labels(x, y)\n",
    "plt.title(f'Genero Eleitorado {eleicao_ano}',fontdict=title_font)\n",
    "\n",
    "plt.xticks(rotation=45)\n",
    "plt.xlabel('Genero',fontdict=label_font)\n",
    "plt.ylabel('Quantidade de Pessoas',fontdict=label_font)\n",
    "plt.show()"
   ]
  },
  {
   "cell_type": "code",
   "execution_count": 22,
   "metadata": {},
   "outputs": [
    {
     "name": "stdout",
     "output_type": "stream",
     "text": [
      "79.5% usam biometria\n"
     ]
    }
   ],
   "source": [
    "eleitores_biometria = df_perfil_eleitorado.QT_ELEITORES_BIOMETRIA.sum()\n",
    "pct_biometry_used = (eleitores_biometria/total_eleitores)*100\n",
    "\n",
    "print(f'{round(pct_biometry_used,2)}% usam biometria')\n"
   ]
  },
  {
   "cell_type": "code",
   "execution_count": 23,
   "metadata": {},
   "outputs": [
    {
     "data": {
      "image/png": "[encoded data removed]",
      "text/plain": [
       "<Figure size 1440x1008 with 1 Axes>"
      ]
     },
     "metadata": {
      "needs_background": "light"
     },
     "output_type": "display_data"
    },
    {
     "data": {
      "text/plain": [
       "117594975"
      ]
     },
     "execution_count": 23,
     "metadata": {},
     "output_type": "execute_result"
    }
   ],
   "source": [
    "plt.figure(figsize=(20,14))\n",
    "\n",
    "x = ['Usam Biometria', 'Não usam Biometria']\n",
    "y = [eleitores_biometria, total_eleitores-eleitores_biometria]\n",
    "\n",
    "plt.bar(x,y,color='grey')\n",
    "\n",
    "add_labels(x, y)\n",
    "plt.title(f'Uso de Biometria {eleicao_ano}',fontdict=title_font)\n",
    "plt.ylabel('Quantidade de Pessoas',fontdict=label_font)\n",
    "plt.show()\n",
    "eleitores_biometria"
   ]
  },
  {
   "cell_type": "markdown",
   "metadata": {},
   "source": [
    "<a name=\"analysis_3\"></a>\n",
    "## 4.3 - Mostrar a renda média do eleitorado de determinada região; \n",
    "[Back to the top](#index)"
   ]
  },
  {
   "cell_type": "markdown",
   "metadata": {},
   "source": [
    "### 4.3.1 - Cobertura Vanguarda"
   ]
  },
  {
   "cell_type": "code",
   "execution_count": 24,
   "metadata": {},
   "outputs": [
    {
     "data": {
      "text/html": [
       "<div>\n",
       "<style scoped>\n",
       "    .dataframe tbody tr th:only-of-type {\n",
       "        vertical-align: middle;\n",
       "    }\n",
       "\n",
       "    .dataframe tbody tr th {\n",
       "        vertical-align: top;\n",
       "    }\n",
       "\n",
       "    .dataframe thead th {\n",
       "        text-align: right;\n",
       "    }\n",
       "</style>\n",
       "<table border=\"1\" class=\"dataframe\">\n",
       "  <thead>\n",
       "    <tr style=\"text-align: right;\">\n",
       "      <th></th>\n",
       "      <th>Ano</th>\n",
       "      <th>Média</th>\n",
       "    </tr>\n",
       "  </thead>\n",
       "  <tbody>\n",
       "    <tr>\n",
       "      <th>0</th>\n",
       "      <td>2008</td>\n",
       "      <td>2.662791</td>\n",
       "    </tr>\n",
       "    <tr>\n",
       "      <th>1</th>\n",
       "      <td>2009</td>\n",
       "      <td>2.616279</td>\n",
       "    </tr>\n",
       "    <tr>\n",
       "      <th>2</th>\n",
       "      <td>2010</td>\n",
       "      <td>2.548837</td>\n",
       "    </tr>\n",
       "    <tr>\n",
       "      <th>3</th>\n",
       "      <td>2011</td>\n",
       "      <td>2.572093</td>\n",
       "    </tr>\n",
       "    <tr>\n",
       "      <th>4</th>\n",
       "      <td>2012</td>\n",
       "      <td>2.423256</td>\n",
       "    </tr>\n",
       "    <tr>\n",
       "      <th>5</th>\n",
       "      <td>2013</td>\n",
       "      <td>2.395349</td>\n",
       "    </tr>\n",
       "    <tr>\n",
       "      <th>6</th>\n",
       "      <td>2014</td>\n",
       "      <td>2.402326</td>\n",
       "    </tr>\n",
       "    <tr>\n",
       "      <th>7</th>\n",
       "      <td>2015</td>\n",
       "      <td>2.383721</td>\n",
       "    </tr>\n",
       "    <tr>\n",
       "      <th>8</th>\n",
       "      <td>2016</td>\n",
       "      <td>2.306977</td>\n",
       "    </tr>\n",
       "    <tr>\n",
       "      <th>9</th>\n",
       "      <td>2017</td>\n",
       "      <td>2.320930</td>\n",
       "    </tr>\n",
       "    <tr>\n",
       "      <th>10</th>\n",
       "      <td>2018</td>\n",
       "      <td>2.369767</td>\n",
       "    </tr>\n",
       "  </tbody>\n",
       "</table>\n",
       "</div>"
      ],
      "text/plain": [
       "     Ano     Média\n",
       "0   2008  2.662791\n",
       "1   2009  2.616279\n",
       "2   2010  2.548837\n",
       "3   2011  2.572093\n",
       "4   2012  2.423256\n",
       "5   2013  2.395349\n",
       "6   2014  2.402326\n",
       "7   2015  2.383721\n",
       "8   2016  2.306977\n",
       "9   2017  2.320930\n",
       "10  2018  2.369767"
      ]
     },
     "execution_count": 24,
     "metadata": {},
     "output_type": "execute_result"
    }
   ],
   "source": [
    "df_renda_mun_ac = df_renda_mun.copy()\n",
    "# ajustando nomes das cidade para maiusculo para faciliar a query\n",
    "df_renda_mun_ac.Localidade = df_renda_mun_ac.Localidade.str.upper()\n",
    "df_renda_mun_ac = df_renda_mun_ac.query(f'Nome == \"Salário médio mensal\" & Localidade == @all_cities_cobertura_vanguarda')\n",
    "df_renda_mun_ac = df_renda_mun_ac.drop(columns=['Nome', 'Posição', 'Multiplicador', \n",
    "                                              'Unidade', '2006', '2007', 'Localidade']).reset_index().drop(columns=['index'])\n",
    "df_renda_media_ac = df_renda_mun_ac.mean(axis=0).reset_index()\n",
    "df_renda_media_ac = df_renda_media_ac.rename(columns={\"index\": \"Ano\", 0: \"Média\"})\n",
    "df_renda_media_ac"
   ]
  },
  {
   "cell_type": "code",
   "execution_count": 25,
   "metadata": {
    "scrolled": true
   },
   "outputs": [
    {
     "data": {
      "image/png": "[encoded data removed]",
      "text/plain": [
       "<Figure size 432x288 with 1 Axes>"
      ]
     },
     "metadata": {
      "needs_background": "light"
     },
     "output_type": "display_data"
    }
   ],
   "source": [
    "plt.title('Média salarial - Região: Cobertura Vanguarda',fontdict=title_font)\n",
    "plt.plot(df_renda_media_ac.Ano, df_renda_media_ac.Média, color='g')\n",
    "plt.xlabel('Ano',fontdict=label_font)\n",
    "plt.ylabel('Salarios Minimos',fontdict=label_font)\n",
    "plt.show()"
   ]
  },
  {
   "cell_type": "markdown",
   "metadata": {},
   "source": [
    "### 4.3.2 - Municipio #1"
   ]
  },
  {
   "cell_type": "code",
   "execution_count": 26,
   "metadata": {},
   "outputs": [
    {
     "data": {
      "text/html": [
       "<div>\n",
       "<style scoped>\n",
       "    .dataframe tbody tr th:only-of-type {\n",
       "        vertical-align: middle;\n",
       "    }\n",
       "\n",
       "    .dataframe tbody tr th {\n",
       "        vertical-align: top;\n",
       "    }\n",
       "\n",
       "    .dataframe thead th {\n",
       "        text-align: right;\n",
       "    }\n",
       "</style>\n",
       "<table border=\"1\" class=\"dataframe\">\n",
       "  <thead>\n",
       "    <tr style=\"text-align: right;\">\n",
       "      <th></th>\n",
       "      <th>Ano</th>\n",
       "      <th>Média</th>\n",
       "    </tr>\n",
       "  </thead>\n",
       "  <tbody>\n",
       "    <tr>\n",
       "      <th>0</th>\n",
       "      <td>2008</td>\n",
       "      <td>4.0</td>\n",
       "    </tr>\n",
       "    <tr>\n",
       "      <th>1</th>\n",
       "      <td>2009</td>\n",
       "      <td>3.8</td>\n",
       "    </tr>\n",
       "    <tr>\n",
       "      <th>2</th>\n",
       "      <td>2010</td>\n",
       "      <td>3.6</td>\n",
       "    </tr>\n",
       "    <tr>\n",
       "      <th>3</th>\n",
       "      <td>2011</td>\n",
       "      <td>3.7</td>\n",
       "    </tr>\n",
       "    <tr>\n",
       "      <th>4</th>\n",
       "      <td>2012</td>\n",
       "      <td>3.5</td>\n",
       "    </tr>\n",
       "    <tr>\n",
       "      <th>5</th>\n",
       "      <td>2013</td>\n",
       "      <td>3.5</td>\n",
       "    </tr>\n",
       "    <tr>\n",
       "      <th>6</th>\n",
       "      <td>2014</td>\n",
       "      <td>3.4</td>\n",
       "    </tr>\n",
       "    <tr>\n",
       "      <th>7</th>\n",
       "      <td>2015</td>\n",
       "      <td>3.3</td>\n",
       "    </tr>\n",
       "    <tr>\n",
       "      <th>8</th>\n",
       "      <td>2016</td>\n",
       "      <td>3.2</td>\n",
       "    </tr>\n",
       "    <tr>\n",
       "      <th>9</th>\n",
       "      <td>2017</td>\n",
       "      <td>3.2</td>\n",
       "    </tr>\n",
       "    <tr>\n",
       "      <th>10</th>\n",
       "      <td>2018</td>\n",
       "      <td>3.2</td>\n",
       "    </tr>\n",
       "  </tbody>\n",
       "</table>\n",
       "</div>"
      ],
      "text/plain": [
       "     Ano  Média\n",
       "0   2008    4.0\n",
       "1   2009    3.8\n",
       "2   2010    3.6\n",
       "3   2011    3.7\n",
       "4   2012    3.5\n",
       "5   2013    3.5\n",
       "6   2014    3.4\n",
       "7   2015    3.3\n",
       "8   2016    3.2\n",
       "9   2017    3.2\n",
       "10  2018    3.2"
      ]
     },
     "execution_count": 26,
     "metadata": {},
     "output_type": "execute_result"
    }
   ],
   "source": [
    "df_renda_mun_1 = df_renda_mun.copy()\n",
    "# ajustando nomes das cidade para maiusculo para faciliar a query\n",
    "df_renda_mun_1.Localidade = df_renda_mun_1.Localidade.str.upper()\n",
    "df_renda_mun_1 = df_renda_mun_1.query(f'Nome == \"Salário médio mensal\" & Localidade == \"{municipio_1}\"')\n",
    "df_renda_mun_1 = df_renda_mun_1.drop(columns=['Nome', 'Posição', 'Multiplicador', \n",
    "                                              'Unidade', '2006', '2007', 'Localidade']).reset_index().drop(columns=['index'])\n",
    "df_renda_media_mun_1 = df_renda_mun_1.mean(axis=0).reset_index()\n",
    "df_renda_media_mun_1 = df_renda_media_mun_1.rename(columns={\"index\": \"Ano\", 0: \"Média\"})\n",
    "df_renda_media_mun_1"
   ]
  },
  {
   "cell_type": "code",
   "execution_count": 27,
   "metadata": {},
   "outputs": [
    {
     "data": {
      "image/png": "[encoded data removed]",
      "text/plain": [
       "<Figure size 432x288 with 1 Axes>"
      ]
     },
     "metadata": {
      "needs_background": "light"
     },
     "output_type": "display_data"
    }
   ],
   "source": [
    "plt.title(f'Média salarial - Municipio: {municipio_1}',fontdict=title_font)\n",
    "plt.plot(df_renda_media_mun_1.Ano, df_renda_media_mun_1.Média, color='b')\n",
    "plt.xlabel('Ano',fontdict=label_font)\n",
    "plt.ylabel('Salarios Minimos',fontdict=label_font)\n",
    "plt.show()"
   ]
  },
  {
   "cell_type": "markdown",
   "metadata": {},
   "source": [
    "<a name=\"analysis_4\"></a>\n",
    "## 4.4 -  Mostrar, daquela região, a cidade com mais eleitores jovem e mais eleitores idosos;\n",
    "[Back to the top](#index)"
   ]
  },
  {
   "cell_type": "code",
   "execution_count": 28,
   "metadata": {},
   "outputs": [
    {
     "data": {
      "text/plain": [
       "['90 a 94 anos                  ',\n",
       " '95 a 99 anos                  ',\n",
       " '100 anos ou mais              ',\n",
       " 'Inválido                      ',\n",
       " '25 a 29 anos                  ',\n",
       " '30 a 34 anos                  ',\n",
       " '35 a 39 anos                  ',\n",
       " '40 a 44 anos                  ',\n",
       " '45 a 49 anos                  ',\n",
       " '50 a 54 anos                  ',\n",
       " '55 a 59 anos                  ',\n",
       " '60 a 64 anos                  ',\n",
       " '65 a 69 anos                  ',\n",
       " '70 a 74 anos                  ',\n",
       " '75 a 79 anos                  ',\n",
       " '80 a 84 anos                  ',\n",
       " '85 a 89 anos                  ',\n",
       " '17 anos                       ',\n",
       " '18 anos                       ',\n",
       " '19 anos                       ',\n",
       " '20 anos                       ',\n",
       " '21 a 24 anos                  ',\n",
       " '16 anos                       ']"
      ]
     },
     "execution_count": 28,
     "metadata": {},
     "output_type": "execute_result"
    }
   ],
   "source": [
    "# consultando as faixas etarias\n",
    "df_perfil_eleitorado['DS_FAIXA_ETARIA'].unique().tolist()"
   ]
  },
  {
   "cell_type": "code",
   "execution_count": 29,
   "metadata": {},
   "outputs": [],
   "source": [
    "def top_5_cities_most_old_voters(df_perfil_eleitorado):\n",
    "    df_perfil_eleitorado_old = df_perfil_eleitorado.query(f'DS_FAIXA_ETARIA.str.contains(\"90 a 94 anos\") '\n",
    "                                                    'or DS_FAIXA_ETARIA.str.contains(\"95 a 99 anos\") '\n",
    "                                                    'or DS_FAIXA_ETARIA.str.contains(\"85 a 89 anos\") '\n",
    "                                                     )\n",
    "    df_perfil_eleitorado_old\n",
    "\n",
    "    df_perfil_eleitorado_old = df_perfil_eleitorado_old.groupby('NM_MUNICIPIO')['QT_ELEITORES_PERFIL'].sum().reset_index()\n",
    "    df_perfil_eleitorado_old = df_perfil_eleitorado_old.sort_values(by=['QT_ELEITORES_PERFIL'], ascending=False)\n",
    "    return df_perfil_eleitorado_old.head(5)\n",
    "\n",
    "def top_5_cities_most_young_voters(df_perfil_eleitorado):\n",
    "    df_perfil_eleitorado_young = df_perfil_eleitorado.query(f'DS_FAIXA_ETARIA.str.contains(\"16 anos\") '\n",
    "                                                      'or DS_FAIXA_ETARIA.str.contains(\"17 anos\") '\n",
    "                                                      'or DS_FAIXA_ETARIA.str.contains(\"18 anos\") '\n",
    "                                                      'or DS_FAIXA_ETARIA.str.contains(\"19 anos\") '\n",
    "                                                      'or DS_FAIXA_ETARIA.str.contains(\"20 anos\") '\n",
    "                                                      'or DS_FAIXA_ETARIA.str.contains(\"21 a 24 anos\") '\n",
    "                                                         )\n",
    "    df_perfil_eleitorado_young\n",
    "\n",
    "    df_perfil_eleitorado_young = df_perfil_eleitorado_young.groupby('NM_MUNICIPIO')['QT_ELEITORES_PERFIL'].sum().reset_index()\n",
    "    df_perfil_eleitorado_young = df_perfil_eleitorado_young.sort_values(by=['QT_ELEITORES_PERFIL'], ascending=False)\n",
    "    return df_perfil_eleitorado_young.head(5)\n",
    "    "
   ]
  },
  {
   "cell_type": "markdown",
   "metadata": {},
   "source": [
    "### 4.4.1 - Comparação à nível Brasil"
   ]
  },
  {
   "cell_type": "code",
   "execution_count": 30,
   "metadata": {},
   "outputs": [
    {
     "data": {
      "text/html": [
       "<div>\n",
       "<style scoped>\n",
       "    .dataframe tbody tr th:only-of-type {\n",
       "        vertical-align: middle;\n",
       "    }\n",
       "\n",
       "    .dataframe tbody tr th {\n",
       "        vertical-align: top;\n",
       "    }\n",
       "\n",
       "    .dataframe thead th {\n",
       "        text-align: right;\n",
       "    }\n",
       "</style>\n",
       "<table border=\"1\" class=\"dataframe\">\n",
       "  <thead>\n",
       "    <tr style=\"text-align: right;\">\n",
       "      <th></th>\n",
       "      <th>NM_MUNICIPIO</th>\n",
       "      <th>QT_ELEITORES_PERFIL</th>\n",
       "    </tr>\n",
       "  </thead>\n",
       "  <tbody>\n",
       "    <tr>\n",
       "      <th>4751</th>\n",
       "      <td>SÃO PAULO</td>\n",
       "      <td>226987</td>\n",
       "    </tr>\n",
       "    <tr>\n",
       "      <th>3982</th>\n",
       "      <td>RIO DE JANEIRO</td>\n",
       "      <td>217102</td>\n",
       "    </tr>\n",
       "    <tr>\n",
       "      <th>526</th>\n",
       "      <td>BELO HORIZONTE</td>\n",
       "      <td>58979</td>\n",
       "    </tr>\n",
       "    <tr>\n",
       "      <th>1708</th>\n",
       "      <td>FORTALEZA</td>\n",
       "      <td>39207</td>\n",
       "    </tr>\n",
       "    <tr>\n",
       "      <th>3721</th>\n",
       "      <td>PORTO ALEGRE</td>\n",
       "      <td>33077</td>\n",
       "    </tr>\n",
       "  </tbody>\n",
       "</table>\n",
       "</div>"
      ],
      "text/plain": [
       "        NM_MUNICIPIO  QT_ELEITORES_PERFIL\n",
       "4751       SÃO PAULO               226987\n",
       "3982  RIO DE JANEIRO               217102\n",
       "526   BELO HORIZONTE                58979\n",
       "1708       FORTALEZA                39207\n",
       "3721    PORTO ALEGRE                33077"
      ]
     },
     "execution_count": 30,
     "metadata": {},
     "output_type": "execute_result"
    }
   ],
   "source": [
    "top_5_cities_most_old_voters(df_perfil_eleitorado)"
   ]
  },
  {
   "cell_type": "code",
   "execution_count": 31,
   "metadata": {},
   "outputs": [
    {
     "data": {
      "text/html": [
       "<div>\n",
       "<style scoped>\n",
       "    .dataframe tbody tr th:only-of-type {\n",
       "        vertical-align: middle;\n",
       "    }\n",
       "\n",
       "    .dataframe tbody tr th {\n",
       "        vertical-align: top;\n",
       "    }\n",
       "\n",
       "    .dataframe thead th {\n",
       "        text-align: right;\n",
       "    }\n",
       "</style>\n",
       "<table border=\"1\" class=\"dataframe\">\n",
       "  <thead>\n",
       "    <tr style=\"text-align: right;\">\n",
       "      <th></th>\n",
       "      <th>NM_MUNICIPIO</th>\n",
       "      <th>QT_ELEITORES_PERFIL</th>\n",
       "    </tr>\n",
       "  </thead>\n",
       "  <tbody>\n",
       "    <tr>\n",
       "      <th>4751</th>\n",
       "      <td>SÃO PAULO</td>\n",
       "      <td>1031224</td>\n",
       "    </tr>\n",
       "    <tr>\n",
       "      <th>3982</th>\n",
       "      <td>RIO DE JANEIRO</td>\n",
       "      <td>512908</td>\n",
       "    </tr>\n",
       "    <tr>\n",
       "      <th>1708</th>\n",
       "      <td>FORTALEZA</td>\n",
       "      <td>240615</td>\n",
       "    </tr>\n",
       "    <tr>\n",
       "      <th>4103</th>\n",
       "      <td>SALVADOR</td>\n",
       "      <td>222024</td>\n",
       "    </tr>\n",
       "    <tr>\n",
       "      <th>2724</th>\n",
       "      <td>MANAUS</td>\n",
       "      <td>217449</td>\n",
       "    </tr>\n",
       "  </tbody>\n",
       "</table>\n",
       "</div>"
      ],
      "text/plain": [
       "        NM_MUNICIPIO  QT_ELEITORES_PERFIL\n",
       "4751       SÃO PAULO              1031224\n",
       "3982  RIO DE JANEIRO               512908\n",
       "1708       FORTALEZA               240615\n",
       "4103        SALVADOR               222024\n",
       "2724          MANAUS               217449"
      ]
     },
     "execution_count": 31,
     "metadata": {},
     "output_type": "execute_result"
    }
   ],
   "source": [
    "top_5_cities_most_young_voters(df_perfil_eleitorado)"
   ]
  },
  {
   "cell_type": "markdown",
   "metadata": {},
   "source": [
    "### 4.4.2 - Comparação à nível Região Estudada (vale do paraiba)"
   ]
  },
  {
   "cell_type": "code",
   "execution_count": 32,
   "metadata": {},
   "outputs": [],
   "source": [
    "# filtrando regiões do vale do paraiba\n",
    "df_perfil_eleitorado_vale = df_perfil_eleitorado.copy()\n",
    "# ajustando nomes das cidade para maiusculo para faciliar a query\n",
    "df_perfil_eleitorado_vale.NM_MUNICIPIO = df_perfil_eleitorado_vale.NM_MUNICIPIO.str.upper()\n",
    "df_perfil_eleitorado_vale = df_perfil_eleitorado_vale.query(f'NM_MUNICIPIO == @macro_regiao[\"VALE DO PARAÍBA\"]')"
   ]
  },
  {
   "cell_type": "code",
   "execution_count": 33,
   "metadata": {
    "scrolled": true
   },
   "outputs": [
    {
     "data": {
      "text/html": [
       "<div>\n",
       "<style scoped>\n",
       "    .dataframe tbody tr th:only-of-type {\n",
       "        vertical-align: middle;\n",
       "    }\n",
       "\n",
       "    .dataframe tbody tr th {\n",
       "        vertical-align: top;\n",
       "    }\n",
       "\n",
       "    .dataframe thead th {\n",
       "        text-align: right;\n",
       "    }\n",
       "</style>\n",
       "<table border=\"1\" class=\"dataframe\">\n",
       "  <thead>\n",
       "    <tr style=\"text-align: right;\">\n",
       "      <th></th>\n",
       "      <th>NM_MUNICIPIO</th>\n",
       "      <th>QT_ELEITORES_PERFIL</th>\n",
       "    </tr>\n",
       "  </thead>\n",
       "  <tbody>\n",
       "    <tr>\n",
       "      <th>19</th>\n",
       "      <td>SÃO JOSÉ DOS CAMPOS</td>\n",
       "      <td>7567</td>\n",
       "    </tr>\n",
       "    <tr>\n",
       "      <th>21</th>\n",
       "      <td>TAUBATÉ</td>\n",
       "      <td>5059</td>\n",
       "    </tr>\n",
       "    <tr>\n",
       "      <th>7</th>\n",
       "      <td>JACAREÍ</td>\n",
       "      <td>2844</td>\n",
       "    </tr>\n",
       "    <tr>\n",
       "      <th>5</th>\n",
       "      <td>GUARATINGUETÁ</td>\n",
       "      <td>1760</td>\n",
       "    </tr>\n",
       "    <tr>\n",
       "      <th>13</th>\n",
       "      <td>PINDAMONHANGABA</td>\n",
       "      <td>1714</td>\n",
       "    </tr>\n",
       "  </tbody>\n",
       "</table>\n",
       "</div>"
      ],
      "text/plain": [
       "           NM_MUNICIPIO  QT_ELEITORES_PERFIL\n",
       "19  SÃO JOSÉ DOS CAMPOS                 7567\n",
       "21              TAUBATÉ                 5059\n",
       "7               JACAREÍ                 2844\n",
       "5         GUARATINGUETÁ                 1760\n",
       "13      PINDAMONHANGABA                 1714"
      ]
     },
     "execution_count": 33,
     "metadata": {},
     "output_type": "execute_result"
    }
   ],
   "source": [
    "top_5_cities_most_old_voters(df_perfil_eleitorado_vale)"
   ]
  },
  {
   "cell_type": "code",
   "execution_count": 34,
   "metadata": {},
   "outputs": [
    {
     "data": {
      "text/html": [
       "<div>\n",
       "<style scoped>\n",
       "    .dataframe tbody tr th:only-of-type {\n",
       "        vertical-align: middle;\n",
       "    }\n",
       "\n",
       "    .dataframe tbody tr th {\n",
       "        vertical-align: top;\n",
       "    }\n",
       "\n",
       "    .dataframe thead th {\n",
       "        text-align: right;\n",
       "    }\n",
       "</style>\n",
       "<table border=\"1\" class=\"dataframe\">\n",
       "  <thead>\n",
       "    <tr style=\"text-align: right;\">\n",
       "      <th></th>\n",
       "      <th>NM_MUNICIPIO</th>\n",
       "      <th>QT_ELEITORES_PERFIL</th>\n",
       "    </tr>\n",
       "  </thead>\n",
       "  <tbody>\n",
       "    <tr>\n",
       "      <th>19</th>\n",
       "      <td>SÃO JOSÉ DOS CAMPOS</td>\n",
       "      <td>65560</td>\n",
       "    </tr>\n",
       "    <tr>\n",
       "      <th>21</th>\n",
       "      <td>TAUBATÉ</td>\n",
       "      <td>25108</td>\n",
       "    </tr>\n",
       "    <tr>\n",
       "      <th>7</th>\n",
       "      <td>JACAREÍ</td>\n",
       "      <td>20673</td>\n",
       "    </tr>\n",
       "    <tr>\n",
       "      <th>13</th>\n",
       "      <td>PINDAMONHANGABA</td>\n",
       "      <td>14752</td>\n",
       "    </tr>\n",
       "    <tr>\n",
       "      <th>5</th>\n",
       "      <td>GUARATINGUETÁ</td>\n",
       "      <td>10644</td>\n",
       "    </tr>\n",
       "  </tbody>\n",
       "</table>\n",
       "</div>"
      ],
      "text/plain": [
       "           NM_MUNICIPIO  QT_ELEITORES_PERFIL\n",
       "19  SÃO JOSÉ DOS CAMPOS                65560\n",
       "21              TAUBATÉ                25108\n",
       "7               JACAREÍ                20673\n",
       "13      PINDAMONHANGABA                14752\n",
       "5         GUARATINGUETÁ                10644"
      ]
     },
     "execution_count": 34,
     "metadata": {},
     "output_type": "execute_result"
    }
   ],
   "source": [
    "top_5_cities_most_young_voters(df_perfil_eleitorado_vale)"
   ]
  },
  {
   "cell_type": "markdown",
   "metadata": {},
   "source": [
    "<a name=\"analysis_5\"></a>\n",
    "## 4.5 -  Comparar a renda média de eleitores do Vale do Paraíba com a de outras regiões do Estado;\n",
    "[Back to the top](#index)"
   ]
  },
  {
   "cell_type": "code",
   "execution_count": 35,
   "metadata": {},
   "outputs": [
    {
     "data": {
      "text/html": [
       "<div>\n",
       "<style scoped>\n",
       "    .dataframe tbody tr th:only-of-type {\n",
       "        vertical-align: middle;\n",
       "    }\n",
       "\n",
       "    .dataframe tbody tr th {\n",
       "        vertical-align: top;\n",
       "    }\n",
       "\n",
       "    .dataframe thead th {\n",
       "        text-align: right;\n",
       "    }\n",
       "</style>\n",
       "<table border=\"1\" class=\"dataframe\">\n",
       "  <thead>\n",
       "    <tr style=\"text-align: right;\">\n",
       "      <th></th>\n",
       "      <th>Ano</th>\n",
       "      <th>Vale do Paraíba</th>\n",
       "    </tr>\n",
       "  </thead>\n",
       "  <tbody>\n",
       "    <tr>\n",
       "      <th>0</th>\n",
       "      <td>2008</td>\n",
       "      <td>2.95</td>\n",
       "    </tr>\n",
       "    <tr>\n",
       "      <th>1</th>\n",
       "      <td>2009</td>\n",
       "      <td>2.89</td>\n",
       "    </tr>\n",
       "    <tr>\n",
       "      <th>2</th>\n",
       "      <td>2010</td>\n",
       "      <td>2.79</td>\n",
       "    </tr>\n",
       "    <tr>\n",
       "      <th>3</th>\n",
       "      <td>2011</td>\n",
       "      <td>2.80</td>\n",
       "    </tr>\n",
       "    <tr>\n",
       "      <th>4</th>\n",
       "      <td>2012</td>\n",
       "      <td>2.62</td>\n",
       "    </tr>\n",
       "    <tr>\n",
       "      <th>5</th>\n",
       "      <td>2013</td>\n",
       "      <td>2.59</td>\n",
       "    </tr>\n",
       "    <tr>\n",
       "      <th>6</th>\n",
       "      <td>2014</td>\n",
       "      <td>2.60</td>\n",
       "    </tr>\n",
       "    <tr>\n",
       "      <th>7</th>\n",
       "      <td>2015</td>\n",
       "      <td>2.57</td>\n",
       "    </tr>\n",
       "    <tr>\n",
       "      <th>8</th>\n",
       "      <td>2016</td>\n",
       "      <td>2.47</td>\n",
       "    </tr>\n",
       "    <tr>\n",
       "      <th>9</th>\n",
       "      <td>2017</td>\n",
       "      <td>2.44</td>\n",
       "    </tr>\n",
       "    <tr>\n",
       "      <th>10</th>\n",
       "      <td>2018</td>\n",
       "      <td>2.50</td>\n",
       "    </tr>\n",
       "  </tbody>\n",
       "</table>\n",
       "</div>"
      ],
      "text/plain": [
       "     Ano  Vale do Paraíba\n",
       "0   2008             2.95\n",
       "1   2009             2.89\n",
       "2   2010             2.79\n",
       "3   2011             2.80\n",
       "4   2012             2.62\n",
       "5   2013             2.59\n",
       "6   2014             2.60\n",
       "7   2015             2.57\n",
       "8   2016             2.47\n",
       "9   2017             2.44\n",
       "10  2018             2.50"
      ]
     },
     "execution_count": 35,
     "metadata": {},
     "output_type": "execute_result"
    }
   ],
   "source": [
    "df_renda_vale_paraiba = df_renda_mun.copy()\n",
    "# ajustando nomes das cidade para maiusculo para faciliar a query\n",
    "df_renda_vale_paraiba.Localidade = df_renda_vale_paraiba.Localidade.str.upper()\n",
    "\n",
    "df_renda_vale_paraiba = df_renda_vale_paraiba.query(f'Nome == \"Salário médio mensal\" & Localidade == @macro_regiao[\"VALE DO PARAÍBA\"]')\n",
    "df_renda_vale_paraiba = df_renda_vale_paraiba.drop(columns=['Nome', \n",
    "                                              'Posição', \n",
    "                                              'Multiplicador', \n",
    "                                              'Unidade', \n",
    "                                              '2006', \n",
    "                                              '2007', \n",
    "                                              'Localidade']).reset_index().drop(columns=['index'])\n",
    "\n",
    "df_renda_media_vale_paraiba = df_renda_vale_paraiba.mean(axis=0).reset_index()\n",
    "df_renda_media_vale_paraiba = df_renda_media_vale_paraiba.rename(columns={\"index\": \"Ano\", 0: \"Vale do Paraíba\"})\n",
    "df_renda_media_vale_paraiba = df_renda_media_vale_paraiba.round(2)\n",
    "df_renda_media_vale_paraiba"
   ]
  },
  {
   "cell_type": "code",
   "execution_count": 36,
   "metadata": {},
   "outputs": [
    {
     "data": {
      "text/html": [
       "<div>\n",
       "<style scoped>\n",
       "    .dataframe tbody tr th:only-of-type {\n",
       "        vertical-align: middle;\n",
       "    }\n",
       "\n",
       "    .dataframe tbody tr th {\n",
       "        vertical-align: top;\n",
       "    }\n",
       "\n",
       "    .dataframe thead th {\n",
       "        text-align: right;\n",
       "    }\n",
       "</style>\n",
       "<table border=\"1\" class=\"dataframe\">\n",
       "  <thead>\n",
       "    <tr style=\"text-align: right;\">\n",
       "      <th></th>\n",
       "      <th>Ano</th>\n",
       "      <th>Demais Regiões</th>\n",
       "    </tr>\n",
       "  </thead>\n",
       "  <tbody>\n",
       "    <tr>\n",
       "      <th>0</th>\n",
       "      <td>2008</td>\n",
       "      <td>2.63</td>\n",
       "    </tr>\n",
       "    <tr>\n",
       "      <th>1</th>\n",
       "      <td>2009</td>\n",
       "      <td>2.55</td>\n",
       "    </tr>\n",
       "    <tr>\n",
       "      <th>2</th>\n",
       "      <td>2010</td>\n",
       "      <td>2.48</td>\n",
       "    </tr>\n",
       "    <tr>\n",
       "      <th>3</th>\n",
       "      <td>2011</td>\n",
       "      <td>2.51</td>\n",
       "    </tr>\n",
       "    <tr>\n",
       "      <th>4</th>\n",
       "      <td>2012</td>\n",
       "      <td>2.41</td>\n",
       "    </tr>\n",
       "    <tr>\n",
       "      <th>5</th>\n",
       "      <td>2013</td>\n",
       "      <td>2.41</td>\n",
       "    </tr>\n",
       "    <tr>\n",
       "      <th>6</th>\n",
       "      <td>2014</td>\n",
       "      <td>2.46</td>\n",
       "    </tr>\n",
       "    <tr>\n",
       "      <th>7</th>\n",
       "      <td>2015</td>\n",
       "      <td>2.42</td>\n",
       "    </tr>\n",
       "    <tr>\n",
       "      <th>8</th>\n",
       "      <td>2016</td>\n",
       "      <td>2.35</td>\n",
       "    </tr>\n",
       "    <tr>\n",
       "      <th>9</th>\n",
       "      <td>2017</td>\n",
       "      <td>2.36</td>\n",
       "    </tr>\n",
       "    <tr>\n",
       "      <th>10</th>\n",
       "      <td>2018</td>\n",
       "      <td>2.39</td>\n",
       "    </tr>\n",
       "  </tbody>\n",
       "</table>\n",
       "</div>"
      ],
      "text/plain": [
       "     Ano  Demais Regiões\n",
       "0   2008            2.63\n",
       "1   2009            2.55\n",
       "2   2010            2.48\n",
       "3   2011            2.51\n",
       "4   2012            2.41\n",
       "5   2013            2.41\n",
       "6   2014            2.46\n",
       "7   2015            2.42\n",
       "8   2016            2.35\n",
       "9   2017            2.36\n",
       "10  2018            2.39"
      ]
     },
     "execution_count": 36,
     "metadata": {},
     "output_type": "execute_result"
    }
   ],
   "source": [
    "df_renda_resto = df_renda_mun.copy()\n",
    "# ajustando nomes das cidade para maiusculo para faciliar a query\n",
    "df_renda_resto.Localidade = df_renda_resto.Localidade.str.upper()\n",
    "\n",
    "df_renda_resto = df_renda_resto.query(f'Nome == \"Salário médio mensal\" & Localidade != @macro_regiao[\"VALE DO PARAÍBA\"]')\n",
    "df_renda_resto = df_renda_resto.drop(columns=['Nome', \n",
    "                                              'Posição', \n",
    "                                              'Multiplicador', \n",
    "                                              'Unidade', \n",
    "                                              '2006', \n",
    "                                              '2007', \n",
    "                                              'Localidade']).reset_index().drop(columns=['index'])\n",
    "\n",
    "df_renda_media_resto = df_renda_resto.mean(axis=0).reset_index()\n",
    "df_renda_media_resto = df_renda_media_resto.rename(columns={\"index\": \"Ano\", 0: \"Demais Regiões\"})\n",
    "df_renda_media_resto = df_renda_media_resto.round(2)\n",
    "df_renda_media_resto"
   ]
  },
  {
   "cell_type": "code",
   "execution_count": 37,
   "metadata": {},
   "outputs": [
    {
     "data": {
      "image/png": "[encoded data removed]",
      "text/plain": [
       "<Figure size 432x288 with 1 Axes>"
      ]
     },
     "metadata": {
      "needs_background": "light"
     },
     "output_type": "display_data"
    }
   ],
   "source": [
    "plt.title(f'Média salarial - Vale do Paraíba x Demais Regiões',fontdict=title_font)\n",
    "plt.plot(df_renda_media_vale_paraiba.Ano, df_renda_media_vale_paraiba[\"Vale do Paraíba\"], \n",
    "         color='b', label='Vale do Paraíba')\n",
    "plt.plot(df_renda_media_resto.Ano, df_renda_media_resto[\"Demais Regiões\"],\n",
    "         color='g', label='Demais Regiões')\n",
    "plt.xlabel('Ano',fontdict=label_font)\n",
    "plt.ylabel('Salarios Minimos',fontdict=label_font)\n",
    "plt.legend()\n",
    "\n",
    "plt.show()"
   ]
  },
  {
   "cell_type": "markdown",
   "metadata": {},
   "source": [
    "<a name=\"analysis_6\"></a>\n",
    "## 4.6 - Automatizar a exportação das estatísticas;\n",
    "[Back to the top](#index)\n",
    "\n",
    "Está função visa possibilitar a exportação dos data frames criados para CSV.\n",
    "Para configurar exportação dos data frames basta alterar a config deste notebook [aqui](#export_to_csv)."
   ]
  },
  {
   "cell_type": "code",
   "execution_count": 38,
   "metadata": {},
   "outputs": [],
   "source": [
    "def export_df_to_csv(df, csv_name):\n",
    "    os.makedirs('exported_csv', exist_ok=True)\n",
    "    df.to_csv(f'exported_csv/{csv_name}.csv',\n",
    "                     sep=';',\n",
    "                     index=False)"
   ]
  },
  {
   "cell_type": "markdown",
   "metadata": {},
   "source": [
    "<a name=\"analysis_7\"></a>\n",
    "## 4.7 - Relacionar características do eleitorado de acordo com o representante eleito em determinada região de eleições futuras;\n",
    "[Back to the top](#index)"
   ]
  },
  {
   "cell_type": "code",
   "execution_count": 39,
   "metadata": {},
   "outputs": [],
   "source": [
    "# este item esta espalhado pelo código do notebook para que seja \n",
    "# possivel ver anos futuros (2022 e 2024) sem necessidade de \n",
    "# ajustes no código, apenas baixando os CSV's e configurando o ano desejado"
   ]
  },
  {
   "cell_type": "markdown",
   "metadata": {},
   "source": [
    "<a name=\"analysis_8\"></a>\n",
    "## 4.8 - Mostrar a percentagem de eleitores ausentes da última eleição;\n",
    "[Back to the top](#index)"
   ]
  },
  {
   "cell_type": "code",
   "execution_count": 40,
   "metadata": {
    "scrolled": true
   },
   "outputs": [
    {
     "data": {
      "text/html": [
       "<div>\n",
       "<style scoped>\n",
       "    .dataframe tbody tr th:only-of-type {\n",
       "        vertical-align: middle;\n",
       "    }\n",
       "\n",
       "    .dataframe tbody tr th {\n",
       "        vertical-align: top;\n",
       "    }\n",
       "\n",
       "    .dataframe thead th {\n",
       "        text-align: right;\n",
       "    }\n",
       "</style>\n",
       "<table border=\"1\" class=\"dataframe\">\n",
       "  <thead>\n",
       "    <tr style=\"text-align: right;\">\n",
       "      <th></th>\n",
       "      <th>NR_TURNO</th>\n",
       "      <th>NM_MUNICIPIO</th>\n",
       "      <th>QT_APTOS</th>\n",
       "      <th>QT_COMPARECIMENTO</th>\n",
       "      <th>QT_ABSTENCAO</th>\n",
       "    </tr>\n",
       "  </thead>\n",
       "  <tbody>\n",
       "    <tr>\n",
       "      <th>0</th>\n",
       "      <td>2</td>\n",
       "      <td>SÃO PAULO</td>\n",
       "      <td>269</td>\n",
       "      <td>65</td>\n",
       "      <td>204</td>\n",
       "    </tr>\n",
       "    <tr>\n",
       "      <th>1</th>\n",
       "      <td>2</td>\n",
       "      <td>SÃO PAULO</td>\n",
       "      <td>78</td>\n",
       "      <td>3</td>\n",
       "      <td>75</td>\n",
       "    </tr>\n",
       "    <tr>\n",
       "      <th>2</th>\n",
       "      <td>2</td>\n",
       "      <td>SÃO PAULO</td>\n",
       "      <td>2</td>\n",
       "      <td>0</td>\n",
       "      <td>2</td>\n",
       "    </tr>\n",
       "    <tr>\n",
       "      <th>3</th>\n",
       "      <td>2</td>\n",
       "      <td>SÃO PAULO</td>\n",
       "      <td>1</td>\n",
       "      <td>1</td>\n",
       "      <td>0</td>\n",
       "    </tr>\n",
       "    <tr>\n",
       "      <th>4</th>\n",
       "      <td>2</td>\n",
       "      <td>SÃO PAULO</td>\n",
       "      <td>2</td>\n",
       "      <td>2</td>\n",
       "      <td>0</td>\n",
       "    </tr>\n",
       "  </tbody>\n",
       "</table>\n",
       "</div>"
      ],
      "text/plain": [
       "   NR_TURNO NM_MUNICIPIO  QT_APTOS  QT_COMPARECIMENTO  QT_ABSTENCAO\n",
       "0         2    SÃO PAULO       269                 65           204\n",
       "1         2    SÃO PAULO        78                  3            75\n",
       "2         2    SÃO PAULO         2                  0             2\n",
       "3         2    SÃO PAULO         1                  1             0\n",
       "4         2    SÃO PAULO         2                  2             0"
      ]
     },
     "execution_count": 40,
     "metadata": {},
     "output_type": "execute_result"
    }
   ],
   "source": [
    "df_abstencao.head(5)"
   ]
  },
  {
   "cell_type": "code",
   "execution_count": 41,
   "metadata": {},
   "outputs": [],
   "source": [
    "def print_percentage(number):\n",
    "    return round(number*100,2)"
   ]
  },
  {
   "cell_type": "code",
   "execution_count": 42,
   "metadata": {},
   "outputs": [
    {
     "name": "stdout",
     "output_type": "stream",
     "text": [
      "24.47% da população esteve ausente nas eleições de 2020\n",
      "75.53% da população esteve presente nas eleições de 2020\n"
     ]
    }
   ],
   "source": [
    "total = df_abstencao.QT_APTOS.sum()\n",
    "total_comparecimento = df_abstencao.QT_COMPARECIMENTO.sum()\n",
    "total_abstencao = df_abstencao.QT_ABSTENCAO.sum()\n",
    "\n",
    "pctg_comparecimento = print_percentage(total_comparecimento/total)\n",
    "pctg_abstencao = print_percentage(total_abstencao/total)\n",
    "\n",
    "print(f'{pctg_abstencao}% da população esteve ausente nas eleições de {eleicao_ano}')\n",
    "print(f'{pctg_comparecimento}% da população esteve presente nas eleições de {eleicao_ano}')"
   ]
  },
  {
   "cell_type": "code",
   "execution_count": 43,
   "metadata": {},
   "outputs": [
    {
     "data": {
      "image/png": "[encoded data removed]",
      "text/plain": [
       "<Figure size 1440x1008 with 1 Axes>"
      ]
     },
     "metadata": {
      "needs_background": "light"
     },
     "output_type": "display_data"
    }
   ],
   "source": [
    "plt.figure(figsize=(20,14))\n",
    "x = ['Votaram', 'Ausentes']\n",
    "y = [total_comparecimento, total_abstencao]\n",
    "plt.bar(x,y,color='brown')\n",
    "\n",
    "add_labels(x, y)\n",
    "plt.title(f'Presença x Ausência Eleições {eleicao_ano}',fontdict=title_font)\n",
    "\n",
    "plt.ylabel('Quantidade de Pessoas',fontdict=label_font)\n",
    "plt.show()"
   ]
  },
  {
   "cell_type": "markdown",
   "metadata": {},
   "source": [
    "<a name=\"analysis_9\"></a>\n",
    "## 4.9 - Mostrar a evolução do número de eleitores;\n",
    "[Back to the top](#index)"
   ]
  },
  {
   "cell_type": "markdown",
   "metadata": {},
   "source": [
    "### 4.9.1 - Brasil"
   ]
  },
  {
   "cell_type": "code",
   "execution_count": 44,
   "metadata": {},
   "outputs": [],
   "source": [
    "eleitores_2014 = df_eleitorado_2014.QTD_ELEITORES.sum()\n",
    "eleitores_2016 = df_eleitorado_2016.QTD_ELEITORES.sum()\n",
    "eleitores_2018 = df_eleitorado_2018.QTD_ELEITORES.sum()\n",
    "eleitores_2020 = df_eleitorado_2020.QTD_ELEITORES.sum()\n",
    "# preparando a analise para eleições futuras\n",
    "if eleicao_ano >= 2022:\n",
    "    eleitores_2022 = df_eleitorado_2022.QTD_ELEITORES.sum()\n",
    "if eleicao_ano >= 2024:\n",
    "    eleitores_2024 = df_eleitorado_2024.QTD_ELEITORES.sum()"
   ]
  },
  {
   "cell_type": "code",
   "execution_count": 45,
   "metadata": {
    "scrolled": false
   },
   "outputs": [
    {
     "data": {
      "image/png": "[encoded data removed]",
      "text/plain": [
       "<Figure size 1440x1008 with 1 Axes>"
      ]
     },
     "metadata": {
      "needs_background": "light"
     },
     "output_type": "display_data"
    }
   ],
   "source": [
    "plt.figure(figsize=(20,14))\n",
    "\n",
    "x = ['2014','2016','2018','2020']\n",
    "# preparando a analise para eleições futuras\n",
    "if eleicao_ano >= 2022:\n",
    "    x.append('2022')\n",
    "if eleicao_ano >= 2024:\n",
    "    x.append('2024')\n",
    "\n",
    "y = [eleitores_2014, eleitores_2016, eleitores_2018, eleitores_2020]\n",
    "# preparando a analise para eleições futuras\n",
    "if eleicao_ano >= 2022:\n",
    "    y.append(eleitores_2022)\n",
    "if eleicao_ano >= 2024:\n",
    "    y.append(eleitores_2024)\n",
    "\n",
    "plt.bar(x,y,color='g')\n",
    "\n",
    "add_labels(x, y)\n",
    "plt.title(f'Evolução de Eleitores por Ano: Brasil',fontdict=title_font)\n",
    "\n",
    "plt.xlabel('Ano',fontdict=label_font)\n",
    "plt.ylabel('Quantidade de Pessoas',fontdict=label_font)\n",
    "\n",
    "plt.show()"
   ]
  },
  {
   "cell_type": "markdown",
   "metadata": {},
   "source": [
    "### 4.9.2 - Vale do Paraíba"
   ]
  },
  {
   "cell_type": "code",
   "execution_count": 46,
   "metadata": {},
   "outputs": [],
   "source": [
    "eleitores_2014_vale = df_eleitorado_2014.query(f'NM_MUNICIPIO == @all_cities_cobertura_vanguarda').QTD_ELEITORES.sum()\n",
    "eleitores_2016_vale = df_eleitorado_2016.query(f'NM_MUNICIPIO == @all_cities_cobertura_vanguarda').QTD_ELEITORES.sum()\n",
    "eleitores_2018_vale = df_eleitorado_2018.query(f'NM_MUNICIPIO == @all_cities_cobertura_vanguarda').QTD_ELEITORES.sum()\n",
    "eleitores_2020_vale = df_eleitorado_2020.query(f'NM_MUNICIPIO == @all_cities_cobertura_vanguarda').QTD_ELEITORES.sum()\n",
    "# preparando a analise para eleições futuras\n",
    "if eleicao_ano >= 2022:\n",
    "    eleitores_2022_vale = df_eleitorado_2022.query(f'NM_MUNICIPIO == @all_cities_cobertura_vanguarda').QTD_ELEITORES.sum()\n",
    "if eleicao_ano >= 2024:\n",
    "    eleitores_2024_vale = df_eleitorado_2024.query(f'NM_MUNICIPIO == @all_cities_cobertura_vanguarda').QTD_ELEITORES.sum()"
   ]
  },
  {
   "cell_type": "code",
   "execution_count": 47,
   "metadata": {},
   "outputs": [
    {
     "data": {
      "image/png": "[encoded data removed]",
      "text/plain": [
       "<Figure size 1440x1008 with 1 Axes>"
      ]
     },
     "metadata": {
      "needs_background": "light"
     },
     "output_type": "display_data"
    }
   ],
   "source": [
    "plt.figure(figsize=(20,14))\n",
    "\n",
    "x = ['2014','2016','2018','2020']\n",
    "# preparando a analise para eleições futuras\n",
    "if eleicao_ano >= 2022:\n",
    "    x.append('2022')\n",
    "if eleicao_ano >= 2024:\n",
    "    x.append('2024')\n",
    "    \n",
    "y = [eleitores_2014_vale, eleitores_2016_vale, eleitores_2018_vale, eleitores_2020_vale]\n",
    "if eleicao_ano >= 2022:\n",
    "    y.append(eleitores_2022_vale)\n",
    "if eleicao_ano >= 2024:\n",
    "    y.append(eleitores_2024_vale)\n",
    "\n",
    "plt.bar(x,y,color='r')\n",
    "\n",
    "add_labels(x, y)\n",
    "plt.title(f'Evolução de Eleitores por Ano: Vale do Paraíba',fontdict=title_font)\n",
    "\n",
    "plt.xlabel('Ano',fontdict=label_font)\n",
    "plt.ylabel('Quantidade de Pessoas',fontdict=label_font)\n",
    "\n",
    "plt.show()"
   ]
  },
  {
   "cell_type": "markdown",
   "metadata": {},
   "source": [
    "### 4.9.3 - Município # 1"
   ]
  },
  {
   "cell_type": "code",
   "execution_count": 48,
   "metadata": {},
   "outputs": [],
   "source": [
    "eleitores_2014_mun1 = df_eleitorado_2014.query(f'NM_MUNICIPIO == \"{municipio_1}\"').QTD_ELEITORES.sum()\n",
    "eleitores_2016_mun1 = df_eleitorado_2016.query(f'NM_MUNICIPIO == \"{municipio_1}\"').QTD_ELEITORES.sum()\n",
    "eleitores_2018_mun1 = df_eleitorado_2018.query(f'NM_MUNICIPIO == \"{municipio_1}\"').QTD_ELEITORES.sum()\n",
    "eleitores_2020_mun1 = df_eleitorado_2020.query(f'NM_MUNICIPIO == \"{municipio_1}\"').QTD_ELEITORES.sum()\n",
    "if eleicao_ano >= 2022:\n",
    "    eleitores_2022_mun1 = df_eleitorado_2022.query(f'NM_MUNICIPIO == \"{municipio_1}\"').QTD_ELEITORES.sum()\n",
    "if eleicao_ano >= 2024:\n",
    "    eleitores_2024_mun1 = df_eleitorado_2024.query(f'NM_MUNICIPIO == \"{municipio_1}\"').QTD_ELEITORES.sum()"
   ]
  },
  {
   "cell_type": "code",
   "execution_count": 49,
   "metadata": {
    "scrolled": false
   },
   "outputs": [
    {
     "data": {
      "image/png": "[encoded data removed]",
      "text/plain": [
       "<Figure size 1440x1008 with 1 Axes>"
      ]
     },
     "metadata": {
      "needs_background": "light"
     },
     "output_type": "display_data"
    }
   ],
   "source": [
    "plt.figure(figsize=(20,14))\n",
    "x = ['2014','2016','2018','2020']\n",
    "# preparando a analise para eleições futuras\n",
    "if eleicao_ano >= 2022:\n",
    "    x.append('2022')\n",
    "if eleicao_ano >= 2024:\n",
    "    x.append('2024')\n",
    "y = [eleitores_2014_mun1, eleitores_2016_mun1, eleitores_2018_mun1, eleitores_2020_mun1]\n",
    "\n",
    "y = [eleitores_2014_vale, eleitores_2016_vale, eleitores_2018_vale, eleitores_2020_vale]\n",
    "if eleicao_ano >= 2022:\n",
    "    y.append(eleitores_2022_mun1)\n",
    "if eleicao_ano >= 2024:\n",
    "    y.append(eleitores_2024_mun1)\n",
    "    \n",
    "plt.bar(x,y,color='y')\n",
    "\n",
    "add_labels(x, y)\n",
    "plt.title(f'Evolução de Eleitores por Ano: {municipio_1}',fontdict=title_font)\n",
    "\n",
    "plt.xlabel('Ano',fontdict=label_font)\n",
    "plt.ylabel('Quantidade de Pessoas',fontdict=label_font)\n",
    "\n",
    "plt.show()"
   ]
  },
  {
   "cell_type": "markdown",
   "metadata": {},
   "source": [
    "<a name=\"exporting\"></a>\n",
    "# 5 - Exportando para CSV (caso configurado)\n",
    "[Back to the top](#index)\n"
   ]
  },
  {
   "cell_type": "code",
   "execution_count": 50,
   "metadata": {},
   "outputs": [
    {
     "name": "stdout",
     "output_type": "stream",
     "text": [
      "Exportação não realizada. Thats all folks\n"
     ]
    }
   ],
   "source": [
    "if EXPORT_TO_CSV == 'N':\n",
    "    print('Exportação não realizada. Thats all folks')\n",
    "else:\n",
    "    export_df_to_csv(marital_status_totals, 'estado_civil_eleitorado')\n",
    "    export_df_to_csv(schooling_totals, 'escolaridade_eleitorado')\n",
    "    export_df_to_csv(age_group, 'faixa_etaria_eleitorado')\n",
    "    export_df_to_csv(gender_totals, 'genero_eleitorado')\n",
    "    export_df_to_csv(df_renda_media_ac, 'renda_media_cidades_vanguarda')\n",
    "    export_df_to_csv(df_renda_media_mun_1, f'renda_media_{municipio_1}')\n",
    "    export_df_to_csv(df_renda_media_vale_paraiba, 'renda_media_vale_paraiba')\n",
    "    export_df_to_csv(df_renda_media_resto, 'renda_media_demais_regioes')"
   ]
  },
  {
   "cell_type": "code",
   "execution_count": null,
   "metadata": {},
   "outputs": [],
   "source": []
  }
 ],
 "metadata": {
  "kernelspec": {
   "display_name": "Python 3",
   "language": "python",
   "name": "python3"
  },
  "language_info": {
   "codemirror_mode": {
    "name": "ipython",
    "version": 3
   },
   "file_extension": ".py",
   "mimetype": "text/x-python",
   "name": "python",
   "nbconvert_exporter": "python",
   "pygments_lexer": "ipython3",
   "version": "3.8.10"
  }
 },
 "nbformat": 4,
 "nbformat_minor": 5
}
